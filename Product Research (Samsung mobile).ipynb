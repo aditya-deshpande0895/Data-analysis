{
 "cells": [
  {
   "cell_type": "markdown",
   "metadata": {},
   "source": [
    "## Start Here"
   ]
  },
  {
   "cell_type": "code",
   "execution_count": 1,
   "metadata": {},
   "outputs": [],
   "source": [
    "import os\n",
    "import selenium\n",
    "from selenium import webdriver\n",
    "import time\n",
    "from PIL import Image\n",
    "import io\n",
    "import requests\n",
    "from webdriver_manager.chrome import ChromeDriverManager\n",
    "from selenium.common.exceptions import ElementClickInterceptedException"
   ]
  },
  {
   "cell_type": "code",
   "execution_count": 2,
   "metadata": {},
   "outputs": [
    {
     "name": "stderr",
     "output_type": "stream",
     "text": [
      "[WDM] - Current google-chrome version is 87.0.4280\n",
      "[WDM] - Get LATEST driver version for 87.0.4280\n",
      "[WDM] - Get LATEST driver version for 87.0.4280\n"
     ]
    },
    {
     "name": "stdout",
     "output_type": "stream",
     "text": [
      " \n"
     ]
    },
    {
     "name": "stderr",
     "output_type": "stream",
     "text": [
      "[WDM] - Trying to download new driver from http://chromedriver.storage.googleapis.com/87.0.4280.88/chromedriver_win32.zip\n",
      "[WDM] - Driver has been saved in cache [C:\\Users\\AdiD9\\.wdm\\drivers\\chromedriver\\win32\\87.0.4280.88]\n"
     ]
    }
   ],
   "source": [
    "options = webdriver.ChromeOptions()\n",
    "options.headless = True\n",
    "driver =webdriver.Chrome(ChromeDriverManager().install(),options = options)"
   ]
  },
  {
   "cell_type": "code",
   "execution_count": 3,
   "metadata": {},
   "outputs": [],
   "source": [
    "search = 'https://www.google.com/search?q=samsung+mobile&source=lnms&tbm=isch&sa=X&ved=2ahUKEwiovuHevZ3uAhU7lEsFHfpkDQoQ_AUoA3oECAcQBQ&biw=690&bih=657'\n",
    "driver.get(search)\n",
    "time.sleep(5)"
   ]
  },
  {
   "cell_type": "code",
   "execution_count": 5,
   "metadata": {
    "scrolled": true
   },
   "outputs": [
    {
     "name": "stdout",
     "output_type": "stream",
     "text": [
      "21\n"
     ]
    }
   ],
   "source": [
    "#imgResults2 = driver.find_elements_by_class_name('s0Fsx')\n",
    "imgResults2 = driver.find_elements_by_css_selector('img.s0Fsx')\n",
    "count = 0\n",
    "imglist = []\n",
    "for image in imgResults2:\n",
    "    #print(str(image))\n",
    "    #if(image.get_attribute('src').find(sub_str) == -1):\n",
    "    count+=1\n",
    "    if(image.get_attribute('src') and 'https' in image.get_attribute('src')):\n",
    "        imglist.append(image.get_attribute('src'))\n",
    "        #print(image.get_attribute('src'))\n",
    "    else:\n",
    "        imglist.append(image.get_attribute('src'))\n",
    "        #print(image.get_attribute('src'))\n",
    "print(len(imglist))        "
   ]
  },
  {
   "cell_type": "code",
   "execution_count": 6,
   "metadata": {
    "scrolled": true
   },
   "outputs": [
    {
     "name": "stdout",
     "output_type": "stream",
     "text": [
      "Samsung Galaxy A21s (Blue, 4GB RAM, 64GB Storage) with No Cost EMI/Additional Exchange Offers\n",
      "Samsung Galaxy M31 (Space Black, 6GB RAM, 64GB Storage)\n",
      "Samsung Galaxy M01 (Blue, 3GB RAM, 32GB Storage) with No Cost EMI/Additional Exchange Offers\n",
      "Samsung Galaxy M21 (Midnight Blue, 4GB RAM, 64GB Storage)\n",
      "Samsung Galaxy A21S (White, 4GB RAM, 64GB Storage) Without Offer\n",
      "Samsung Galaxy A51 (Blue, 8GB RAM, 128GB Storage) with No Cost EMI/Additional Exchange Offers\n",
      "Samsung Galaxy M51 (Electric Blue, 6GB RAM, 128GB Storage)\n",
      "Samsung Galaxy M31 | 8GB RAM|128 GB Storage|Blue|Mega 64MP Quad camera|Infinity-U Display|6,000mAh battery and 15W Fast Charging\n",
      "Samsung Galaxy A31 (Prism Crush Blue, 6GB RAM, 128GB Storage) with No Cost EMI/Additional Exchange Offers\n",
      "Samsung Galaxy M01s (Blue, 3GB RAM, 32GB Storage) with No Cost EMI/Additional Exchange Offers\n",
      "Samsung Galaxy M30 128GB (Gradation Blue, 6GB RAM)\n",
      "Samsung Galaxy Z Fold2 5G (Mystic Bronze, 12GB RAM, 256GB Storage) with No Cost EMI/Additional Exchange Offers\n",
      "Samsung Galaxy Note10 Lite (Aura Glow, 8GB RAM, 128GB Storage) with No Cost EMI/Additional Exchange Offers\n",
      "Galaxy M01 | Black | 3GB RAM | 32GB | 4000mAh Battery | Infinity-V Display | 13MP Dual Camera\n",
      "Galaxy F41 64GB | Fusion Green | 16.21cm (6.4\") Super AMOLED Infinity U Display | 64MP Versatile Triple Camera | Long Lasting Battery (6000mAh)\n",
      "Galaxy M11 | Violet | 4GB RAM | 64GB | 5000mAh Battery | 13MP Triple Camera | Infinty-O Display\n",
      "Samsung Galaxy A51 A515FH (8GB 128GB, Metallic Silver)\n",
      "Samsung Galaxy M01 M015GD (3GB 32GB, Black)\n",
      "Samsung Galaxy Note 20 Ultra 5G (Mystic Bronze, 12GB RAM, 256GB Storage) with No Cost EMI/Additional Exchange Offers\n",
      "Samsung Galaxy M31s (Mirage Blue, 8GB RAM, 128GB Storage)\n",
      "Samsung Galaxy M21 (Iceberg Blue, 6GB RAM, 128GB Storage)\n",
      "21\n"
     ]
    }
   ],
   "source": [
    "otherinfo = driver.find_elements_by_css_selector('.iKMEte.X7oSNe')\n",
    "count = 0\n",
    "Specslist = []\n",
    "for specs in otherinfo:\n",
    "    count+=1\n",
    "    #print(image.get_attribute('style'))\n",
    "    print(specs.text)\n",
    "    Specslist.append(specs.text)\n",
    "print(len(Specslist))"
   ]
  },
  {
   "cell_type": "code",
   "execution_count": 7,
   "metadata": {
    "scrolled": true
   },
   "outputs": [
    {
     "name": "stdout",
     "output_type": "stream",
     "text": [
      "21\n"
     ]
    }
   ],
   "source": [
    "cost = driver.find_elements_by_css_selector('.t3Ss7.X7oSNe')\n",
    "count = 0\n",
    "costlist = []\n",
    "for c in cost:\n",
    "    count+=1\n",
    "    #print(c.text)\n",
    "    costlist.append(c.text)\n",
    "print(count)"
   ]
  },
  {
   "cell_type": "markdown",
   "metadata": {},
   "source": [
    "## Test program to separate Model name and Specs"
   ]
  },
  {
   "cell_type": "code",
   "execution_count": 9,
   "metadata": {},
   "outputs": [],
   "source": [
    "str1 = 'Samsung Galaxy M30 128GB (Gradation Blue, 6GB RAM)'\n",
    "#count = 0\n",
    "#small = ['a','b','c','d','e','f','g','h','i','j','k','l','m','n','o','p','q','r','s','t','u','v','w','x','y','z']\n",
    "#Capital = ['A','B','C','D','E','F','G','H','I','J','K','L','M','N','O','P','Q','R','S','T','U','V','W','X','Y','Z']\n",
    "#numbers = ['0','1','2','3','4','5','6','7','8','9']\n",
    "Modelname = ''\n",
    "Specs = ''\n",
    "thr = str1.find('(')\n",
    "for i in range(len(str1)):\n",
    "    if(i<thr):\n",
    "        Modelname = Modelname + str1[i]\n",
    "    else:\n",
    "        Specs = Specs + str1[i]"
   ]
  },
  {
   "cell_type": "code",
   "execution_count": 10,
   "metadata": {},
   "outputs": [
    {
     "name": "stdout",
     "output_type": "stream",
     "text": [
      "Samsung Galaxy M30 128GB \n",
      "(Gradation Blue, 6GB RAM)\n"
     ]
    }
   ],
   "source": [
    "print(Modelname)\n",
    "print(Specs)"
   ]
  },
  {
   "cell_type": "markdown",
   "metadata": {},
   "source": [
    "## Actual code to get Modellist and Specslist"
   ]
  },
  {
   "cell_type": "code",
   "execution_count": 11,
   "metadata": {},
   "outputs": [],
   "source": [
    "Name = []\n",
    "Details = []\n",
    "for str1 in Specslist:\n",
    "    Modelname = ''\n",
    "    Specs = ''\n",
    "    if('(' in str1):\n",
    "        thr = str1.find('(')\n",
    "    elif('|' in str1):\n",
    "        thr = str1.find('|')\n",
    "    for i in range(len(str1)):\n",
    "        if(i<thr):\n",
    "            Modelname = Modelname + str1[i]\n",
    "        else:\n",
    "            Specs = Specs + str1[i]\n",
    "    Name.append(Modelname)\n",
    "    Details.append(Specs)"
   ]
  },
  {
   "cell_type": "code",
   "execution_count": 12,
   "metadata": {},
   "outputs": [],
   "source": [
    "import pandas as pd\n",
    "df = pd.DataFrame()"
   ]
  },
  {
   "cell_type": "code",
   "execution_count": 13,
   "metadata": {},
   "outputs": [
    {
     "data": {
      "text/plain": [
       "21"
      ]
     },
     "execution_count": 13,
     "metadata": {},
     "output_type": "execute_result"
    }
   ],
   "source": [
    "len(imglist)"
   ]
  },
  {
   "cell_type": "code",
   "execution_count": 14,
   "metadata": {},
   "outputs": [],
   "source": [
    "df['Model Name'] = Name\n",
    "df['Price'] = costlist\n",
    "df['ImageURL'] = imglist\n",
    "df['OtherInfo'] = Details"
   ]
  },
  {
   "cell_type": "code",
   "execution_count": 15,
   "metadata": {},
   "outputs": [
    {
     "data": {
      "text/html": [
       "<div>\n",
       "<style scoped>\n",
       "    .dataframe tbody tr th:only-of-type {\n",
       "        vertical-align: middle;\n",
       "    }\n",
       "\n",
       "    .dataframe tbody tr th {\n",
       "        vertical-align: top;\n",
       "    }\n",
       "\n",
       "    .dataframe thead th {\n",
       "        text-align: right;\n",
       "    }\n",
       "</style>\n",
       "<table border=\"1\" class=\"dataframe\">\n",
       "  <thead>\n",
       "    <tr style=\"text-align: right;\">\n",
       "      <th></th>\n",
       "      <th>Model Name</th>\n",
       "      <th>Price</th>\n",
       "      <th>ImageURL</th>\n",
       "      <th>OtherInfo</th>\n",
       "    </tr>\n",
       "  </thead>\n",
       "  <tbody>\n",
       "    <tr>\n",
       "      <th>0</th>\n",
       "      <td>Samsung Galaxy A21s</td>\n",
       "      <td>₹14,999</td>\n",
       "      <td>data:image/jpeg;base64,/9j/4AAQSkZJRgABAQAAAQA...</td>\n",
       "      <td>(Blue, 4GB RAM, 64GB Storage) with No Cost EMI...</td>\n",
       "    </tr>\n",
       "    <tr>\n",
       "      <th>1</th>\n",
       "      <td>Samsung Galaxy M31</td>\n",
       "      <td>₹15,999</td>\n",
       "      <td>data:image/jpeg;base64,/9j/4AAQSkZJRgABAQAAAQA...</td>\n",
       "      <td>(Space Black, 6GB RAM, 64GB Storage)</td>\n",
       "    </tr>\n",
       "    <tr>\n",
       "      <th>2</th>\n",
       "      <td>Samsung Galaxy M01</td>\n",
       "      <td>₹7,499</td>\n",
       "      <td>data:image/jpeg;base64,/9j/4AAQSkZJRgABAQAAAQA...</td>\n",
       "      <td>(Blue, 3GB RAM, 32GB Storage) with No Cost EMI...</td>\n",
       "    </tr>\n",
       "    <tr>\n",
       "      <th>3</th>\n",
       "      <td>Samsung Galaxy M21</td>\n",
       "      <td>₹13,999</td>\n",
       "      <td>data:image/jpeg;base64,/9j/4AAQSkZJRgABAQAAAQA...</td>\n",
       "      <td>(Midnight Blue, 4GB RAM, 64GB Storage)</td>\n",
       "    </tr>\n",
       "    <tr>\n",
       "      <th>4</th>\n",
       "      <td>Samsung Galaxy A21S</td>\n",
       "      <td>₹14,985</td>\n",
       "      <td>https://encrypted-tbn0.gstatic.com/images?q=tb...</td>\n",
       "      <td>(White, 4GB RAM, 64GB Storage) Without Offer</td>\n",
       "    </tr>\n",
       "  </tbody>\n",
       "</table>\n",
       "</div>"
      ],
      "text/plain": [
       "             Model Name    Price  \\\n",
       "0  Samsung Galaxy A21s   ₹14,999   \n",
       "1   Samsung Galaxy M31   ₹15,999   \n",
       "2   Samsung Galaxy M01    ₹7,499   \n",
       "3   Samsung Galaxy M21   ₹13,999   \n",
       "4  Samsung Galaxy A21S   ₹14,985   \n",
       "\n",
       "                                            ImageURL  \\\n",
       "0  data:image/jpeg;base64,/9j/4AAQSkZJRgABAQAAAQA...   \n",
       "1  data:image/jpeg;base64,/9j/4AAQSkZJRgABAQAAAQA...   \n",
       "2  data:image/jpeg;base64,/9j/4AAQSkZJRgABAQAAAQA...   \n",
       "3  data:image/jpeg;base64,/9j/4AAQSkZJRgABAQAAAQA...   \n",
       "4  https://encrypted-tbn0.gstatic.com/images?q=tb...   \n",
       "\n",
       "                                           OtherInfo  \n",
       "0  (Blue, 4GB RAM, 64GB Storage) with No Cost EMI...  \n",
       "1               (Space Black, 6GB RAM, 64GB Storage)  \n",
       "2  (Blue, 3GB RAM, 32GB Storage) with No Cost EMI...  \n",
       "3             (Midnight Blue, 4GB RAM, 64GB Storage)  \n",
       "4       (White, 4GB RAM, 64GB Storage) Without Offer  "
      ]
     },
     "execution_count": 15,
     "metadata": {},
     "output_type": "execute_result"
    }
   ],
   "source": [
    "df.head()"
   ]
  },
  {
   "cell_type": "code",
   "execution_count": 16,
   "metadata": {},
   "outputs": [
    {
     "data": {
      "text/html": [
       "<div>\n",
       "<style scoped>\n",
       "    .dataframe tbody tr th:only-of-type {\n",
       "        vertical-align: middle;\n",
       "    }\n",
       "\n",
       "    .dataframe tbody tr th {\n",
       "        vertical-align: top;\n",
       "    }\n",
       "\n",
       "    .dataframe thead th {\n",
       "        text-align: right;\n",
       "    }\n",
       "</style>\n",
       "<table border=\"1\" class=\"dataframe\">\n",
       "  <thead>\n",
       "    <tr style=\"text-align: right;\">\n",
       "      <th></th>\n",
       "      <th>Model Name</th>\n",
       "      <th>Price</th>\n",
       "      <th>ImageURL</th>\n",
       "      <th>OtherInfo</th>\n",
       "    </tr>\n",
       "  </thead>\n",
       "  <tbody>\n",
       "    <tr>\n",
       "      <th>0</th>\n",
       "      <td>Samsung Galaxy A21s</td>\n",
       "      <td>₹14,999</td>\n",
       "      <td>data:image/jpeg;base64,/9j/4AAQSkZJRgABAQAAAQA...</td>\n",
       "      <td>(Blue, 4GB RAM, 64GB Storage) with No Cost EMI...</td>\n",
       "    </tr>\n",
       "    <tr>\n",
       "      <th>1</th>\n",
       "      <td>Samsung Galaxy M31</td>\n",
       "      <td>₹15,999</td>\n",
       "      <td>data:image/jpeg;base64,/9j/4AAQSkZJRgABAQAAAQA...</td>\n",
       "      <td>(Space Black, 6GB RAM, 64GB Storage)</td>\n",
       "    </tr>\n",
       "    <tr>\n",
       "      <th>2</th>\n",
       "      <td>Samsung Galaxy M01</td>\n",
       "      <td>₹7,499</td>\n",
       "      <td>data:image/jpeg;base64,/9j/4AAQSkZJRgABAQAAAQA...</td>\n",
       "      <td>(Blue, 3GB RAM, 32GB Storage) with No Cost EMI...</td>\n",
       "    </tr>\n",
       "    <tr>\n",
       "      <th>3</th>\n",
       "      <td>Samsung Galaxy M21</td>\n",
       "      <td>₹13,999</td>\n",
       "      <td>data:image/jpeg;base64,/9j/4AAQSkZJRgABAQAAAQA...</td>\n",
       "      <td>(Midnight Blue, 4GB RAM, 64GB Storage)</td>\n",
       "    </tr>\n",
       "    <tr>\n",
       "      <th>4</th>\n",
       "      <td>Samsung Galaxy A21S</td>\n",
       "      <td>₹14,985</td>\n",
       "      <td>https://encrypted-tbn0.gstatic.com/images?q=tb...</td>\n",
       "      <td>(White, 4GB RAM, 64GB Storage) Without Offer</td>\n",
       "    </tr>\n",
       "    <tr>\n",
       "      <th>5</th>\n",
       "      <td>Samsung Galaxy A51</td>\n",
       "      <td>₹22,499</td>\n",
       "      <td>https://encrypted-tbn0.gstatic.com/images?q=tb...</td>\n",
       "      <td>(Blue, 8GB RAM, 128GB Storage) with No Cost EM...</td>\n",
       "    </tr>\n",
       "    <tr>\n",
       "      <th>6</th>\n",
       "      <td>Samsung Galaxy M51</td>\n",
       "      <td>₹22,999</td>\n",
       "      <td>https://encrypted-tbn0.gstatic.com/images?q=tb...</td>\n",
       "      <td>(Electric Blue, 6GB RAM, 128GB Storage)</td>\n",
       "    </tr>\n",
       "    <tr>\n",
       "      <th>7</th>\n",
       "      <td>Samsung Galaxy M31</td>\n",
       "      <td>₹18,999</td>\n",
       "      <td>https://encrypted-tbn0.gstatic.com/images?q=tb...</td>\n",
       "      <td>| 8GB RAM|128 GB Storage|Blue|Mega 64MP Quad c...</td>\n",
       "    </tr>\n",
       "    <tr>\n",
       "      <th>8</th>\n",
       "      <td>Samsung Galaxy A31</td>\n",
       "      <td>₹17,999</td>\n",
       "      <td>https://encrypted-tbn0.gstatic.com/images?q=tb...</td>\n",
       "      <td>(Prism Crush Blue, 6GB RAM, 128GB Storage) wit...</td>\n",
       "    </tr>\n",
       "    <tr>\n",
       "      <th>9</th>\n",
       "      <td>Samsung Galaxy M01s</td>\n",
       "      <td>₹8,999</td>\n",
       "      <td>https://encrypted-tbn0.gstatic.com/images?q=tb...</td>\n",
       "      <td>(Blue, 3GB RAM, 32GB Storage) with No Cost EMI...</td>\n",
       "    </tr>\n",
       "    <tr>\n",
       "      <th>10</th>\n",
       "      <td>Samsung Galaxy M30 128GB</td>\n",
       "      <td>₹13,000</td>\n",
       "      <td>https://encrypted-tbn0.gstatic.com/images?q=tb...</td>\n",
       "      <td>(Gradation Blue, 6GB RAM)</td>\n",
       "    </tr>\n",
       "    <tr>\n",
       "      <th>11</th>\n",
       "      <td>Samsung Galaxy Z Fold2 5G</td>\n",
       "      <td>₹149,998</td>\n",
       "      <td>https://encrypted-tbn0.gstatic.com/images?q=tb...</td>\n",
       "      <td>(Mystic Bronze, 12GB RAM, 256GB Storage) with ...</td>\n",
       "    </tr>\n",
       "    <tr>\n",
       "      <th>12</th>\n",
       "      <td>Samsung Galaxy Note10 Lite</td>\n",
       "      <td>₹36,999</td>\n",
       "      <td>https://encrypted-tbn0.gstatic.com/images?q=tb...</td>\n",
       "      <td>(Aura Glow, 8GB RAM, 128GB Storage) with No Co...</td>\n",
       "    </tr>\n",
       "    <tr>\n",
       "      <th>13</th>\n",
       "      <td>Galaxy M01</td>\n",
       "      <td>₹7,499</td>\n",
       "      <td>https://encrypted-tbn0.gstatic.com/images?q=tb...</td>\n",
       "      <td>| Black | 3GB RAM | 32GB | 4000mAh Battery | I...</td>\n",
       "    </tr>\n",
       "    <tr>\n",
       "      <th>14</th>\n",
       "      <td>Galaxy F41 64GB | Fusion Green | 16.21cm</td>\n",
       "      <td>₹15,499</td>\n",
       "      <td>https://encrypted-tbn0.gstatic.com/images?q=tb...</td>\n",
       "      <td>(6.4\") Super AMOLED Infinity U Display | 64MP ...</td>\n",
       "    </tr>\n",
       "    <tr>\n",
       "      <th>15</th>\n",
       "      <td>Galaxy M11</td>\n",
       "      <td>₹11,999</td>\n",
       "      <td>https://encrypted-tbn0.gstatic.com/images?q=tb...</td>\n",
       "      <td>| Violet | 4GB RAM | 64GB | 5000mAh Battery | ...</td>\n",
       "    </tr>\n",
       "    <tr>\n",
       "      <th>16</th>\n",
       "      <td>Samsung Galaxy A51 A515FH</td>\n",
       "      <td>₹22,499</td>\n",
       "      <td>https://encrypted-tbn0.gstatic.com/images?q=tb...</td>\n",
       "      <td>(8GB 128GB, Metallic Silver)</td>\n",
       "    </tr>\n",
       "    <tr>\n",
       "      <th>17</th>\n",
       "      <td>Samsung Galaxy M01 M015GD</td>\n",
       "      <td>₹7,499</td>\n",
       "      <td>https://encrypted-tbn0.gstatic.com/images?q=tb...</td>\n",
       "      <td>(3GB 32GB, Black)</td>\n",
       "    </tr>\n",
       "    <tr>\n",
       "      <th>18</th>\n",
       "      <td>Samsung Galaxy Note 20 Ultra 5G</td>\n",
       "      <td>₹104,999</td>\n",
       "      <td>https://encrypted-tbn0.gstatic.com/images?q=tb...</td>\n",
       "      <td>(Mystic Bronze, 12GB RAM, 256GB Storage) with ...</td>\n",
       "    </tr>\n",
       "    <tr>\n",
       "      <th>19</th>\n",
       "      <td>Samsung Galaxy M31s</td>\n",
       "      <td>₹20,499</td>\n",
       "      <td>https://encrypted-tbn0.gstatic.com/images?q=tb...</td>\n",
       "      <td>(Mirage Blue, 8GB RAM, 128GB Storage)</td>\n",
       "    </tr>\n",
       "    <tr>\n",
       "      <th>20</th>\n",
       "      <td>Samsung Galaxy M21</td>\n",
       "      <td>₹15,999</td>\n",
       "      <td>https://encrypted-tbn0.gstatic.com/images?q=tb...</td>\n",
       "      <td>(Iceberg Blue, 6GB RAM, 128GB Storage)</td>\n",
       "    </tr>\n",
       "  </tbody>\n",
       "</table>\n",
       "</div>"
      ],
      "text/plain": [
       "                                   Model Name     Price  \\\n",
       "0                        Samsung Galaxy A21s    ₹14,999   \n",
       "1                         Samsung Galaxy M31    ₹15,999   \n",
       "2                         Samsung Galaxy M01     ₹7,499   \n",
       "3                         Samsung Galaxy M21    ₹13,999   \n",
       "4                        Samsung Galaxy A21S    ₹14,985   \n",
       "5                         Samsung Galaxy A51    ₹22,499   \n",
       "6                         Samsung Galaxy M51    ₹22,999   \n",
       "7                         Samsung Galaxy M31    ₹18,999   \n",
       "8                         Samsung Galaxy A31    ₹17,999   \n",
       "9                        Samsung Galaxy M01s     ₹8,999   \n",
       "10                  Samsung Galaxy M30 128GB    ₹13,000   \n",
       "11                 Samsung Galaxy Z Fold2 5G   ₹149,998   \n",
       "12                Samsung Galaxy Note10 Lite    ₹36,999   \n",
       "13                                Galaxy M01     ₹7,499   \n",
       "14  Galaxy F41 64GB | Fusion Green | 16.21cm    ₹15,499   \n",
       "15                                Galaxy M11    ₹11,999   \n",
       "16                 Samsung Galaxy A51 A515FH    ₹22,499   \n",
       "17                 Samsung Galaxy M01 M015GD     ₹7,499   \n",
       "18           Samsung Galaxy Note 20 Ultra 5G   ₹104,999   \n",
       "19                       Samsung Galaxy M31s    ₹20,499   \n",
       "20                        Samsung Galaxy M21    ₹15,999   \n",
       "\n",
       "                                             ImageURL  \\\n",
       "0   data:image/jpeg;base64,/9j/4AAQSkZJRgABAQAAAQA...   \n",
       "1   data:image/jpeg;base64,/9j/4AAQSkZJRgABAQAAAQA...   \n",
       "2   data:image/jpeg;base64,/9j/4AAQSkZJRgABAQAAAQA...   \n",
       "3   data:image/jpeg;base64,/9j/4AAQSkZJRgABAQAAAQA...   \n",
       "4   https://encrypted-tbn0.gstatic.com/images?q=tb...   \n",
       "5   https://encrypted-tbn0.gstatic.com/images?q=tb...   \n",
       "6   https://encrypted-tbn0.gstatic.com/images?q=tb...   \n",
       "7   https://encrypted-tbn0.gstatic.com/images?q=tb...   \n",
       "8   https://encrypted-tbn0.gstatic.com/images?q=tb...   \n",
       "9   https://encrypted-tbn0.gstatic.com/images?q=tb...   \n",
       "10  https://encrypted-tbn0.gstatic.com/images?q=tb...   \n",
       "11  https://encrypted-tbn0.gstatic.com/images?q=tb...   \n",
       "12  https://encrypted-tbn0.gstatic.com/images?q=tb...   \n",
       "13  https://encrypted-tbn0.gstatic.com/images?q=tb...   \n",
       "14  https://encrypted-tbn0.gstatic.com/images?q=tb...   \n",
       "15  https://encrypted-tbn0.gstatic.com/images?q=tb...   \n",
       "16  https://encrypted-tbn0.gstatic.com/images?q=tb...   \n",
       "17  https://encrypted-tbn0.gstatic.com/images?q=tb...   \n",
       "18  https://encrypted-tbn0.gstatic.com/images?q=tb...   \n",
       "19  https://encrypted-tbn0.gstatic.com/images?q=tb...   \n",
       "20  https://encrypted-tbn0.gstatic.com/images?q=tb...   \n",
       "\n",
       "                                            OtherInfo  \n",
       "0   (Blue, 4GB RAM, 64GB Storage) with No Cost EMI...  \n",
       "1                (Space Black, 6GB RAM, 64GB Storage)  \n",
       "2   (Blue, 3GB RAM, 32GB Storage) with No Cost EMI...  \n",
       "3              (Midnight Blue, 4GB RAM, 64GB Storage)  \n",
       "4        (White, 4GB RAM, 64GB Storage) Without Offer  \n",
       "5   (Blue, 8GB RAM, 128GB Storage) with No Cost EM...  \n",
       "6             (Electric Blue, 6GB RAM, 128GB Storage)  \n",
       "7   | 8GB RAM|128 GB Storage|Blue|Mega 64MP Quad c...  \n",
       "8   (Prism Crush Blue, 6GB RAM, 128GB Storage) wit...  \n",
       "9   (Blue, 3GB RAM, 32GB Storage) with No Cost EMI...  \n",
       "10                          (Gradation Blue, 6GB RAM)  \n",
       "11  (Mystic Bronze, 12GB RAM, 256GB Storage) with ...  \n",
       "12  (Aura Glow, 8GB RAM, 128GB Storage) with No Co...  \n",
       "13  | Black | 3GB RAM | 32GB | 4000mAh Battery | I...  \n",
       "14  (6.4\") Super AMOLED Infinity U Display | 64MP ...  \n",
       "15  | Violet | 4GB RAM | 64GB | 5000mAh Battery | ...  \n",
       "16                       (8GB 128GB, Metallic Silver)  \n",
       "17                                  (3GB 32GB, Black)  \n",
       "18  (Mystic Bronze, 12GB RAM, 256GB Storage) with ...  \n",
       "19              (Mirage Blue, 8GB RAM, 128GB Storage)  \n",
       "20             (Iceberg Blue, 6GB RAM, 128GB Storage)  "
      ]
     },
     "execution_count": 16,
     "metadata": {},
     "output_type": "execute_result"
    }
   ],
   "source": [
    "df"
   ]
  },
  {
   "cell_type": "code",
   "execution_count": 17,
   "metadata": {},
   "outputs": [],
   "source": [
    "df.to_csv('MobileInfo.csv')"
   ]
  }
 ],
 "metadata": {
  "colab": {
   "name": "Globussoft R2",
   "provenance": []
  },
  "kernelspec": {
   "display_name": "Python 3",
   "language": "python",
   "name": "python3"
  },
  "language_info": {
   "codemirror_mode": {
    "name": "ipython",
    "version": 3
   },
   "file_extension": ".py",
   "mimetype": "text/x-python",
   "name": "python",
   "nbconvert_exporter": "python",
   "pygments_lexer": "ipython3",
   "version": "3.7.3"
  }
 },
 "nbformat": 4,
 "nbformat_minor": 1
}
