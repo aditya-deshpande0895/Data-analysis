{
 "cells": [
  {
   "cell_type": "markdown",
   "metadata": {},
   "source": [
    "import requests\n",
    "r1 = requests.get(\"https://api.covid19india.org/states_daily.json\")\n",
    "#data = r1.json()"
   ]
  },
  {
   "cell_type": "markdown",
   "metadata": {},
   "source": [
    "data = r1.json()\n",
    "data['states_daily']"
   ]
  },
  {
   "cell_type": "markdown",
   "metadata": {},
   "source": [
    "## Do not run this code"
   ]
  },
  {
   "cell_type": "markdown",
   "metadata": {},
   "source": [
    "with open('COVID19India.json', 'w') as json_file:\n",
    "    json.dump(data, json_file)"
   ]
  },
  {
   "cell_type": "markdown",
   "metadata": {},
   "source": [
    "## Start here"
   ]
  },
  {
   "cell_type": "markdown",
   "metadata": {},
   "source": [
    "import json\n",
    "\n",
    "# read file\n",
    "with open('COVID19India.json', 'r') as myfile:\n",
    "    data=myfile.read()\n",
    "\n",
    "# parse file\n",
    "obj = json.loads(data)"
   ]
  },
  {
   "cell_type": "markdown",
   "metadata": {
    "scrolled": true
   },
   "source": [
    "obj['states_daily']"
   ]
  },
  {
   "cell_type": "markdown",
   "metadata": {},
   "source": [
    "import pandas as pd\n",
    "# Final Dataset will be stored in a Dataframe\n",
    "df = pd.DataFrame(columns=['StateandUT','Dates','Confirmed','Recovered','Deceased'])     "
   ]
  },
  {
   "cell_type": "markdown",
   "metadata": {},
   "source": [
    "#### Each element inside a list is a dictionary "
   ]
  },
  {
   "cell_type": "markdown",
   "metadata": {
    "scrolled": true
   },
   "source": [
    "# Accessing dictionary inside the list\n",
    "def createdf(list1):\n",
    "    subdf = pd.DataFrame(columns=['StateandUT','Dates','Confirmed','Recovered','Deceased'])\n",
    "    count = 0\n",
    "    l2 = copy.deepcopy(list1)\n",
    "    for tempdict in l2:\n",
    "        #print('1')\n",
    "        #print(tempdict)\n",
    "        dt = tempdict['date']\n",
    "        st = tempdict['status']\n",
    "    \n",
    "        #print(dt,st)\n",
    "        del tempdict['date']\n",
    "        del tempdict['status']\n",
    "        #dictsize = len(tempdict)\n",
    "        #print('2')\n",
    "        #print(tempdict)\n",
    "        if(st=='Confirmed'):\n",
    "            subdf['Confirmed'] = tempdict.values()\n",
    "            subdf['Dates'] = dt\n",
    "            subdf['StateandUT'] = tempdict.keys()\n",
    "            #statelist = tempdict.keys() \n",
    "        elif(st=='Recovered'):\n",
    "            subdf['Recovered'] = tempdict.values()\n",
    "            #statelist = tempdict.keys()\n",
    "        elif(st=='Deceased'):\n",
    "            subdf['Deceased'] = tempdict.values()\n",
    "        count+=1\n",
    "        if(count==3):\n",
    "            df = df.append(subdf)\n",
    "            count = 0\n",
    "    df.reset_index(drop=True,inplace=True)\n",
    "    df['StateandUT'] = df['StateandUT'].str.upper()\n",
    "    df.replace({'StateandUT':\n",
    "               {\"AN\":\"Andaman and Nicobar\",\"AP\":\"Andhra Pradesh\",\"AR\":\"Arunachal Pradesh\",\"AS\":\"Assam\",\n",
    "                \"BR\":\"Bihar\",\"CH\":\"Chandigarh\",\"CT\":\"Chhattisgarh\",\"DN\":\"Dadra and Nagar Haveli\",\n",
    "                \"DD\":\"Daman and Diu\",\"DL\":\"Delhi\",\"GA\":\"Goa\",\"GJ\":\"Gujarat\",\"HR\":\"Haryana\",\"HP\":\"Himachal Pradesh\",\n",
    "                \"JK\":\"Jammu and Kashmir\",\"JH\":\"Jharkhand\",\"KA\":\"Karnataka\",\"KL\":\"Kerala\",\"LA\":\"Ladakh\",\n",
    "                \"LD\":\"Lakshadweep\",\"MP\":\"Madhya Pradesh\",\"MH\":\"Maharashtra\",\"MN\":\"Manipur\",\"ML\":\"Meghalaya\",\n",
    "                \"MZ\":\"Mizoram\",\"NL\":\"Nagaland\",\"OR\":\"Odisha\",\"PY\":\"Puducherry\",\"PB\":\"Punjab\",\"RJ\":\"Rajasthan\",\n",
    "                \"SK\":\"Sikkim\",\"TN\":\"Tamil Nadu\",\"TG\":\"Telangana\",\"TR\":\"Tripura\",\"UP\":\"Uttar Pradesh\",\n",
    "                \"UT\":\"Uttarakhand\",\"WB\":\"West Bengal\"}},inplace=True)\n",
    "    ind = list(df.loc[df['StateandUT']=='TT',:].index)\n",
    "    ind.extend(list(df.loc[df['StateandUT']=='UN',:].index))\n",
    "    df['StateandUT'].drop(ind,inplace=True)\n",
    "    return df"
   ]
  },
  {
   "cell_type": "markdown",
   "metadata": {},
   "source": [
    "state_dict={\n",
    "    \"AN\":\"Andaman and Nicobar\",\n",
    "    \"AP\":\"Andhra Pradesh\",\n",
    "    \"AR\":\"Arunachal Pradesh\",\n",
    "    \"AS\":\"Assam\",\n",
    "    \"BR\":\"Bihar\",\n",
    "    \"CG\":\"Chandigarh\",\n",
    "    \"CH\":\"Chhattisgarh\",\n",
    "    \"DN\":\"Dadra and Nagar Haveli\",\n",
    "    \"DD\":\"Daman and Diu\",\n",
    "    \"DL\":\"Delhi\",\n",
    "    \"GA\":\"Goa\",\n",
    "    \"GJ\":\"Gujarat\",\n",
    "    \"HR\":\"Haryana\",\n",
    "    \"HP\":\"Himachal Pradesh\",\n",
    "    \"JK\":\"Jammu and Kashmir\",\n",
    "    \"JH\":\"Jharkhand\",\n",
    "    \"KA\":\"Karnataka\",\n",
    "    \"KL\":\"Kerala\",\n",
    "    \"LA\":\"Ladakh\",\n",
    "    \"LD\":\"Lakshadweep\",\n",
    "    \"MP\":\"Madhya Pradesh\",\n",
    "    \"MH\":\"Maharashtra\",\n",
    "    \"MN\":\"Manipur\",\n",
    "    \"ML\":\"Meghalaya\",\n",
    "    \"MZ\":\"Mizoram\",\n",
    "    \"NL\":\"Nagaland\",\n",
    "    \"OR\":\"Odisha\",\n",
    "    \"PY\":\"Puducherry\",\n",
    "    \"PB\":\"Punjab\",\n",
    "    \"RJ\":\"Rajasthan\",\n",
    "    \"SK\":\"Sikkim\",\n",
    "    \"TN\":\"Tamil Nadu\",\n",
    "    \"TS\":\"Telangana\",\n",
    "    \"TR\":\"Tripura\",\n",
    "    \"UP\":\"Uttar Pradesh\",\n",
    "    \"UK\":\"Uttarakhand\",\n",
    "    \"WB\":\"West Bengal\"\n",
    "}"
   ]
  },
  {
   "cell_type": "code",
   "execution_count": 5,
   "metadata": {},
   "outputs": [],
   "source": [
    "from selenium.webdriver.common.by import By\n",
    "from selenium import webdriver\n",
    "path = 'G:\\Softwares\\Chrome Driver\\chromedriver.exe'\n",
    "driver = webdriver.Chrome(path)\n",
    "driver.get(\"https://api.covid19india.org/\")\n",
    "link = driver.find_element_by_link_text(\"https://api.covid19india.org/states_daily.json\")"
   ]
  },
  {
   "cell_type": "code",
   "execution_count": 1,
   "metadata": {},
   "outputs": [],
   "source": [
    "import schedule\n",
    "import requests\n",
    "import time\n",
    "import json\n",
    "import pandas as pd\n",
    "import copy\n",
    "# Accessing dictionary inside the list\n",
    "def createdf(list1):\n",
    "    subdf = pd.DataFrame(columns=['StateandUT','Dates','Confirmed','Recovered','Deceased'])\n",
    "    df = pd.DataFrame(columns=['StateandUT','Dates','Confirmed','Recovered','Deceased'])\n",
    "    count = 0\n",
    "    l2 = copy.deepcopy(list1)\n",
    "    for tempdict in l2:\n",
    "        #print('1')\n",
    "        #print(tempdict)\n",
    "        dt = tempdict['date']\n",
    "        st = tempdict['status']\n",
    "    \n",
    "        #print(dt,st)\n",
    "        del tempdict['date']\n",
    "        del tempdict['status']\n",
    "        #dictsize = len(tempdict)\n",
    "        #print('2')\n",
    "        #print(tempdict)\n",
    "        if(st=='Confirmed'):\n",
    "            subdf['Confirmed'] = tempdict.values()\n",
    "            subdf['Dates'] = dt\n",
    "            subdf['StateandUT'] = tempdict.keys()\n",
    "            #statelist = tempdict.keys() \n",
    "        elif(st=='Recovered'):\n",
    "            subdf['Recovered'] = tempdict.values()\n",
    "            #statelist = tempdict.keys()\n",
    "        elif(st=='Deceased'):\n",
    "            subdf['Deceased'] = tempdict.values()\n",
    "        count+=1\n",
    "        if(count==3):\n",
    "            df = df.append(subdf)\n",
    "            count = 0\n",
    "    df.reset_index(drop=True,inplace=True)\n",
    "    df['StateandUT'] = df['StateandUT'].str.upper()\n",
    "    df.replace({'StateandUT':\n",
    "               {\"AN\":\"Andaman and Nicobar\",\"AP\":\"Andhra Pradesh\",\"AR\":\"Arunachal Pradesh\",\"AS\":\"Assam\",\n",
    "                \"BR\":\"Bihar\",\"CH\":\"Chandigarh\",\"CT\":\"Chhattisgarh\",\"DN\":\"Dadra and Nagar Haveli\",\n",
    "                \"DD\":\"Daman and Diu\",\"DL\":\"Delhi\",\"GA\":\"Goa\",\"GJ\":\"Gujarat\",\"HR\":\"Haryana\",\"HP\":\"Himachal Pradesh\",\n",
    "                \"JK\":\"Jammu and Kashmir\",\"JH\":\"Jharkhand\",\"KA\":\"Karnataka\",\"KL\":\"Kerala\",\"LA\":\"Ladakh\",\n",
    "                \"LD\":\"Lakshadweep\",\"MP\":\"Madhya Pradesh\",\"MH\":\"Maharashtra\",\"MN\":\"Manipur\",\"ML\":\"Meghalaya\",\n",
    "                \"MZ\":\"Mizoram\",\"NL\":\"Nagaland\",\"OR\":\"Odisha\",\"PY\":\"Puducherry\",\"PB\":\"Punjab\",\"RJ\":\"Rajasthan\",\n",
    "                \"SK\":\"Sikkim\",\"TN\":\"Tamil Nadu\",\"TG\":\"Telangana\",\"TR\":\"Tripura\",\"UP\":\"Uttar Pradesh\",\n",
    "                \"UT\":\"Uttarakhand\",\"WB\":\"West Bengal\"}},inplace=True)\n",
    "    ind = list(df.loc[df['StateandUT']=='TT',:].index)\n",
    "    ind.extend(list(df.loc[df['StateandUT']=='UN',:].index))\n",
    "    df['StateandUT'].drop(ind,inplace=True)\n",
    "    return df\n",
    "\n",
    "def pull_data(site_url,file_name):\n",
    "    \"\"\"\n",
    "    :param site_url: URL to which requests get should hit\n",
    "    :param apikey: Key from your account\n",
    "    :param file_name: location and file name where output should be saved/appended\n",
    "    \"\"\"\n",
    "    global r\n",
    "    r = requests.get(url=site_url)\n",
    "    file = open(file_name, \"a\")\n",
    "    #data = json.loads(r)\n",
    "    obj = r.json()\n",
    "    #print(obj)\n",
    "    output = createdf(obj['states_daily'])\n",
    "    output.to_csv(file_name)\n",
    "    \n",
    "    #currency = json.loads(data.content)\n",
    "    #output = data.headers['Date'] + '|' + '1' + '|' + str(currency['USD']) + '|' + str(currency['JPY']) + '|' + \\\n",
    "    #         str(currency['EUR']) + '\\n'\n",
    "    #file.write(output)\n",
    "    #file.close()"
   ]
  },
  {
   "cell_type": "code",
   "execution_count": null,
   "metadata": {
    "scrolled": true
   },
   "outputs": [],
   "source": [
    "#key = 'd6873a7c9e67c2a0d2bcd63250e68ec1eebe9132'\n",
    "url = 'https://api.covid19india.org/states_daily.json'\n",
    "file_name = 'F:/Aditya/Youtube content/COVID19India.csv'\n",
    "schedule.every(1).minutes.do(pull_data, url, file_name)\n",
    "# Run in  loop to extract data for every 30 seconds\n",
    "while True:\n",
    "    schedule.run_pending()\n",
    "    time.sleep(120)"
   ]
  }
 ],
 "metadata": {
  "kernelspec": {
   "display_name": "Python 3",
   "language": "python",
   "name": "python3"
  },
  "language_info": {
   "codemirror_mode": {
    "name": "ipython",
    "version": 3
   },
   "file_extension": ".py",
   "mimetype": "text/x-python",
   "name": "python",
   "nbconvert_exporter": "python",
   "pygments_lexer": "ipython3",
   "version": "3.7.3"
  }
 },
 "nbformat": 4,
 "nbformat_minor": 2
}
