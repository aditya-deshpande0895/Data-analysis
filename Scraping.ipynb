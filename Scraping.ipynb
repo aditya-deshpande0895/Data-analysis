{
 "cells": [
  {
   "cell_type": "code",
   "execution_count": 1,
   "metadata": {},
   "outputs": [],
   "source": [
    "import schedule\n",
    "import requests\n",
    "import time\n",
    "import json\n",
    "import pandas as pd\n",
    "import copy\n",
    "# Accessing dictionary inside the list\n",
    "def createdf(list1):\n",
    "    subdf = pd.DataFrame(columns=['StateandUT','Dates','Confirmed','Recovered','Deceased'])\n",
    "    df = pd.DataFrame(columns=['StateandUT','Dates','Confirmed','Recovered','Deceased'])\n",
    "    count = 0\n",
    "    l2 = copy.deepcopy(list1)\n",
    "    # Take each element of the json\n",
    "    for tempdict in l2:\n",
    "        # Preparing columns date, state, Status-Confirm, dead, cured\n",
    "        dt = tempdict['date']\n",
    "        st = tempdict['status']\n",
    "        \n",
    "        # Removing date and status\n",
    "        del tempdict['date']\n",
    "        del tempdict['status']\n",
    "        \n",
    "        # Using remaining values to fill the field as per the date and status\n",
    "        if(st=='Confirmed'):\n",
    "            subdf['Confirmed'] = tempdict.values()\n",
    "            subdf['Dates'] = dt\n",
    "            subdf['StateandUT'] = tempdict.keys()\n",
    "            #statelist = tempdict.keys() \n",
    "        elif(st=='Recovered'):\n",
    "            subdf['Recovered'] = tempdict.values()\n",
    "            #statelist = tempdict.keys()\n",
    "        elif(st=='Deceased'):\n",
    "            subdf['Deceased'] = tempdict.values()\n",
    "        count+=1\n",
    "        if(count==3):\n",
    "            df = df.append(subdf)\n",
    "            count = 0\n",
    "    df.reset_index(drop=True,inplace=True)\n",
    "    # Converting the lower case initials of state to upper case\n",
    "    df['StateandUT'] = df['StateandUT'].str.upper()\n",
    "    # Replacing initials with full name\n",
    "    df.replace({'StateandUT':\n",
    "               {\"AN\":\"Andaman and Nicobar\",\"AP\":\"Andhra Pradesh\",\"AR\":\"Arunachal Pradesh\",\"AS\":\"Assam\",\n",
    "                \"BR\":\"Bihar\",\"CH\":\"Chandigarh\",\"CT\":\"Chhattisgarh\",\"DN\":\"Dadra and Nagar Haveli\",\n",
    "                \"DD\":\"Daman and Diu\",\"DL\":\"Delhi\",\"GA\":\"Goa\",\"GJ\":\"Gujarat\",\"HR\":\"Haryana\",\"HP\":\"Himachal Pradesh\",\n",
    "                \"JK\":\"Jammu and Kashmir\",\"JH\":\"Jharkhand\",\"KA\":\"Karnataka\",\"KL\":\"Kerala\",\"LA\":\"Ladakh\",\n",
    "                \"LD\":\"Lakshadweep\",\"MP\":\"Madhya Pradesh\",\"MH\":\"Maharashtra\",\"MN\":\"Manipur\",\"ML\":\"Meghalaya\",\n",
    "                \"MZ\":\"Mizoram\",\"NL\":\"Nagaland\",\"OR\":\"Odisha\",\"PY\":\"Puducherry\",\"PB\":\"Punjab\",\"RJ\":\"Rajasthan\",\n",
    "                \"SK\":\"Sikkim\",\"TN\":\"Tamil Nadu\",\"TG\":\"Telangana\",\"TR\":\"Tripura\",\"UP\":\"Uttar Pradesh\",\n",
    "                \"UT\":\"Uttarakhand\",\"WB\":\"West Bengal\"}},inplace=True)\n",
    "    \n",
    "    #ind = list(df.loc[df['StateandUT']=='TT',:].index)\n",
    "    #ind.extend(list(df.loc[df['StateandUT']=='UN',:].index))\n",
    "    #df['StateandUT'].drop(ind,inplace=True)\n",
    "    return df\n",
    "\n",
    "# Function to get the data from url\n",
    "def pull_data(site_url,file_name):\n",
    "    global r\n",
    "    r = requests.get(url=site_url)\n",
    "    file = open(file_name, \"a\")\n",
    "    \n",
    "    # Convert obtained json into a list\n",
    "    obj = r.json()\n",
    "    \n",
    "    # Create a dataframe of the obtained list from json\n",
    "    output = createdf(obj['states_daily'])\n",
    "    output.to_csv(file_name)"
   ]
  },
  {
   "cell_type": "code",
   "execution_count": null,
   "metadata": {
    "scrolled": true
   },
   "outputs": [],
   "source": [
    "url = 'https://api.covid19india.org/states_daily.json'\n",
    "file_name = 'F:/Aditya/Youtube content/COVID19India.csv'\n",
    "\n",
    "# Scheduling to get the updated data\n",
    "schedule.every(1).minutes.do(pull_data, url, file_name)\n",
    "while True:\n",
    "    schedule.run_pending()\n",
    "    time.sleep(120)"
   ]
  }
 ],
 "metadata": {
  "kernelspec": {
   "display_name": "Python 3",
   "language": "python",
   "name": "python3"
  },
  "language_info": {
   "codemirror_mode": {
    "name": "ipython",
    "version": 3
   },
   "file_extension": ".py",
   "mimetype": "text/x-python",
   "name": "python",
   "nbconvert_exporter": "python",
   "pygments_lexer": "ipython3",
   "version": "3.7.3"
  }
 },
 "nbformat": 4,
 "nbformat_minor": 2
}
