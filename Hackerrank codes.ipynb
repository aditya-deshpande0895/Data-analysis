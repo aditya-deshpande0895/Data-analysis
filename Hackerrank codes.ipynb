{
 "cells": [
  {
   "cell_type": "markdown",
   "metadata": {},
   "source": [
    "## Swapping the case of an alphabet"
   ]
  },
  {
   "cell_type": "code",
   "execution_count": 18,
   "metadata": {},
   "outputs": [
    {
     "name": "stdout",
     "output_type": "stream",
     "text": [
      "HackerRank.com presents \"Pythonist 2\".\n",
      "hACKERrANK.COM PRESENTS \"pYTHONIST 2\".\n"
     ]
    }
   ],
   "source": [
    "def swap_case(s):\n",
    "    new = ''\n",
    "    for i in s:\n",
    "        c = ord(i)\n",
    "        if(c>=65 and c<=90):\n",
    "            c = c+32\n",
    "        elif(c>=97 and c<=122):\n",
    "            c = c-32\n",
    "        new = new+chr(c)    \n",
    "    return new\n",
    "\n",
    "if __name__ == '__main__':\n",
    "    s = input()\n",
    "    result = swap_case(s)\n",
    "    print(result)"
   ]
  },
  {
   "cell_type": "markdown",
   "metadata": {},
   "source": [
    "## Printing full name"
   ]
  },
  {
   "cell_type": "code",
   "execution_count": 24,
   "metadata": {},
   "outputs": [
    {
     "name": "stdout",
     "output_type": "stream",
     "text": [
      "Ross\n",
      "Taylor\n",
      "Hello Ross Taylor! You just delved into python.\n"
     ]
    }
   ],
   "source": [
    "def print_full_name(a, b):\n",
    "    l1 = [a,b]\n",
    "    print(\"Hello %s %s! You just delved into python.\"%(a,b))\n",
    "\n",
    "if __name__ == '__main__':\n",
    "    first_name = input()\n",
    "    last_name = input()\n",
    "    print_full_name(first_name, last_name)"
   ]
  },
  {
   "cell_type": "markdown",
   "metadata": {},
   "source": [
    "## Hackerrank logo"
   ]
  },
  {
   "cell_type": "code",
   "execution_count": 67,
   "metadata": {},
   "outputs": [
    {
     "name": "stdout",
     "output_type": "stream",
     "text": [
      "7\n",
      "      *      \n",
      "     ***     \n",
      "    *****    \n",
      "   *******   \n",
      "  *********  \n",
      " *********** \n",
      "*************\n",
      "   *******                     *******                  \n",
      "   *******                     *******                  \n",
      "   *******                     *******                  \n",
      "   *******                     *******                  \n",
      "   *******                     *******                  \n",
      "   *******                     *******                  \n",
      "   *******                     *******                  \n",
      "   *******                     *******                  \n",
      "   ***********************************    \n",
      "   ***********************************    \n",
      "   ***********************************    \n",
      "   ***********************************    \n",
      "   *******                     *******                  \n",
      "   *******                     *******                  \n",
      "   *******                     *******                  \n",
      "   *******                     *******                  \n",
      "   *******                     *******                  \n",
      "   *******                     *******                  \n",
      "   *******                     *******                  \n",
      "   *******                     *******                  \n",
      "                            ************* \n",
      "                             ***********  \n",
      "                              *********   \n",
      "                               *******    \n",
      "                                *****     \n",
      "                                 ***      \n",
      "                                  *       \n"
     ]
    }
   ],
   "source": [
    "thickness = int(input()) #This must be an odd number\n",
    "c = '*'\n",
    "\n",
    "#Top Cone\n",
    "for i in range(thickness):\n",
    "    print((c*i).rjust(thickness-1)+c+(c*i).ljust(thickness-1))\n",
    "\n",
    "#Top Pillars\n",
    "for i in range(thickness+1):\n",
    "    print((c*thickness).center(thickness*2)+(c*thickness).center(thickness*6))\n",
    "\n",
    "#Middle Belt\n",
    "for i in range((thickness+1)//2):\n",
    "    print((c*thickness*5).center(thickness*6))    \n",
    "\n",
    "#Bottom Pillars\n",
    "for i in range(thickness+1):\n",
    "    print((c*thickness).center(thickness*2)+(c*thickness).center(thickness*6))    \n",
    "\n",
    "#Bottom Cone\n",
    "for i in range(thickness):\n",
    "    print(((c*(thickness-i-1)).rjust(thickness)+c+(c*(thickness-i-1)).ljust(thickness)).rjust(thickness*6))"
   ]
  },
  {
   "cell_type": "markdown",
   "metadata": {},
   "source": [
    "## Converting the entered string into words of n lines "
   ]
  },
  {
   "cell_type": "code",
   "execution_count": 4,
   "metadata": {
    "scrolled": true
   },
   "outputs": [
    {
     "name": "stdout",
     "output_type": "stream",
     "text": [
      "adityadeeshpande\n",
      "2\n",
      "ad\n",
      "it\n",
      "ya\n",
      "de\n",
      "es\n",
      "hp\n",
      "an\n",
      "de\n",
      "\n"
     ]
    }
   ],
   "source": [
    "import textwrap\n",
    "def wrap(string, max_width):\n",
    "    l1 = []\n",
    "    while(len(string)!=0):\n",
    "        w = string[:max_width]\n",
    "        l1.append(w)\n",
    "        string = string[max_width:] + ''\n",
    "    str1 = ''\n",
    "    for i in l1:\n",
    "        str1 = str1 + i\n",
    "        str1 = str1 + '\\n'\n",
    "    return str1\n",
    "if __name__ == '__main__':\n",
    "    string, max_width = input(), int(input())\n",
    "    result = wrap(string, max_width)\n",
    "    print (result)"
   ]
  },
  {
   "cell_type": "code",
   "execution_count": 3,
   "metadata": {},
   "outputs": [
    {
     "name": "stdout",
     "output_type": "stream",
     "text": [
      "adityadeshpande5\n",
      "2\n",
      "ad\n",
      "it\n",
      "ya\n",
      "de\n",
      "sh\n",
      "pa\n",
      "nd\n",
      "e5\n"
     ]
    }
   ],
   "source": [
    "import textwrap\n",
    "def wrap(string, max_width):\n",
    "    w = ''\n",
    "    w = textwrap.fill(string,max_width)\n",
    "    return w\n",
    "if __name__ == '__main__':\n",
    "    string, max_width = input(), int(input())\n",
    "    result = wrap(string, max_width)\n",
    "    print(result)           "
   ]
  },
  {
   "cell_type": "markdown",
   "metadata": {},
   "source": [
    "## Creating a welcome carpet"
   ]
  },
  {
   "cell_type": "code",
   "execution_count": 1,
   "metadata": {},
   "outputs": [
    {
     "name": "stdout",
     "output_type": "stream",
     "text": [
      "13 39\n",
      "------------------.|.------------------\n",
      "---------------.|..|..|.---------------\n",
      "------------.|..|..|..|..|.------------\n",
      "---------.|..|..|..|..|..|..|.---------\n",
      "------.|..|..|..|..|..|..|..|..|.------\n",
      "---.|..|..|..|..|..|..|..|..|..|..|.---\n",
      "----------------WELCOME----------------\n",
      "---.|..|..|..|..|..|..|..|..|..|..|.---\n",
      "------.|..|..|..|..|..|..|..|..|.------\n",
      "---------.|..|..|..|..|..|..|.---------\n",
      "------------.|..|..|..|..|.------------\n",
      "---------------.|..|..|.---------------\n",
      "------------------.|.------------------\n"
     ]
    }
   ],
   "source": [
    "n,m = map(int,input().split())\n",
    "c1 = '.|.'\n",
    "c2 = 'WELCOME'\n",
    "for i in range(1,n-1,2):\n",
    "    print((c1*i).center(m,'-'))\n",
    "print(c2.center(m,'-'))\n",
    "for i in range(n-2,0,-2):\n",
    "    print((c1*i).center(m,'-'))"
   ]
  },
  {
   "cell_type": "markdown",
   "metadata": {},
   "source": [
    "## Creating word pyramid and diamond"
   ]
  },
  {
   "cell_type": "code",
   "execution_count": 49,
   "metadata": {
    "scrolled": true
   },
   "outputs": [
    {
     "name": "stdout",
     "output_type": "stream",
     "text": [
      "5\n",
      "e-d-c-b-a-b-c-d-e\n",
      "--e-d-c-b-c-d-e--\n",
      "----e-d-c-d-e----\n",
      "------e-d-e------\n",
      "--------e--------\n"
     ]
    }
   ],
   "source": [
    "l1 = list(map(chr,range(97,123)))\n",
    "n = int(input())\n",
    "\n",
    "for i in range(0,n):\n",
    "    print('-'.join(l1[n-1:i:-1]+l1[i:n]).center((n-1)*4+1,'-'))"
   ]
  },
  {
   "cell_type": "code",
   "execution_count": 50,
   "metadata": {},
   "outputs": [
    {
     "name": "stdout",
     "output_type": "stream",
     "text": [
      "--------e--------\n",
      "------e-d-e------\n",
      "----e-d-c-d-e----\n",
      "--e-d-c-b-c-d-e--\n",
      "e-d-c-b-a-b-c-d-e\n",
      "--e-d-c-b-c-d-e--\n",
      "----e-d-c-d-e----\n",
      "------e-d-e------\n",
      "--------e--------\n"
     ]
    }
   ],
   "source": [
    "for i in range(n-1,-1,-1):\n",
    "    print('-'.join(l1[n-1:i:-1]+l1[i:n]).center((n-1)*4+1,'-'))\n",
    "for i in range(1,n):\n",
    "    print('-'.join(l1[n-1:i:-1]+l1[i:n]).center((n-1)*4+1,'-'))"
   ]
  },
  {
   "cell_type": "markdown",
   "metadata": {},
   "source": [
    "## Capitalize words of a string"
   ]
  },
  {
   "cell_type": "code",
   "execution_count": 46,
   "metadata": {
    "scrolled": true
   },
   "outputs": [
    {
     "name": "stdout",
     "output_type": "stream",
     "text": [
      "hello   world  lol\n",
      "['h', 'e', 'l', 'l', 'o', ' ', ' ', ' ', 'w', 'o', 'r', 'l', 'd', ' ', ' ', 'l', 'o', 'l']\n",
      "Hello   World  Lol\n"
     ]
    }
   ],
   "source": [
    "str1 = 'hello   world  lol'\n",
    "print(str1)\n",
    "l1 = list(str1)\n",
    "string = ''\n",
    "print(l1)\n",
    "for i in range(len(l1)):\n",
    "    if(i==0 and l1[i].isalpha()):\n",
    "        string = string + l1[i].capitalize()\n",
    "    elif(l1[i].isalpha() and l1[i-1]==' '):\n",
    "        string = string + l1[i].capitalize()\n",
    "    else:\n",
    "        string = string + l1[i]\n",
    "print(string)"
   ]
  }
 ],
 "metadata": {
  "kernelspec": {
   "display_name": "Python 3",
   "language": "python",
   "name": "python3"
  },
  "language_info": {
   "codemirror_mode": {
    "name": "ipython",
    "version": 3
   },
   "file_extension": ".py",
   "mimetype": "text/x-python",
   "name": "python",
   "nbconvert_exporter": "python",
   "pygments_lexer": "ipython3",
   "version": "3.7.3"
  }
 },
 "nbformat": 4,
 "nbformat_minor": 2
}
