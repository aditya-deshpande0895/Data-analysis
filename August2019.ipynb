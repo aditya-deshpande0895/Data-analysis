{
 "cells": [
  {
   "cell_type": "markdown",
   "metadata": {},
   "source": [
    "1. Write a python program to remove duplicates in Matrix\n",
    "\n",
    "    INPUT : [[5, 6, 8], [8, 5, 3], [9, 10, 3]]\n",
    "\n",
    "    OUTPUT: [[5, 6, 8], [3], [9, 10]]\n"
   ]
  },
  {
   "cell_type": "code",
   "execution_count": 39,
   "metadata": {},
   "outputs": [
    {
     "name": "stdout",
     "output_type": "stream",
     "text": [
      "[array([5, 6, 8]), array([8, 5, 3]), array([ 9, 10,  3])]\n",
      "The original list is :  [array([5, 6, 8]), array([8, 5, 3]), array([ 9, 10,  3])]\n",
      "8\n",
      "3\n",
      "3\n",
      "The Matrix after duplicates removal is :  [[5, 6, 8], [3], [9, 10]]\n"
     ]
    }
   ],
   "source": [
    "import numpy as np\n",
    "a1 = np.array([[5,6,8],[8,5,3],[9,10,3]])\n",
    "l1 = list(a1)\n",
    "print(l1)  \n",
    "# printing original list \n",
    "print(\"The original list is : \",l1)\n",
    "  \n",
    "# Removing duplicates in Matrix \n",
    "# using loop \n",
    "res = [] \n",
    "track = [] \n",
    "count = 0\n",
    "  \n",
    "for row in l1:\n",
    "    res.append([]);\n",
    "    #print(sub); \n",
    "    for val in row:\n",
    "        if val not in track:\n",
    "            res[count].append(val) \n",
    "            track.append(val)\n",
    "    print(val)\n",
    "    count += 1\n",
    "#printing result \n",
    "print(\"The Matrix after duplicates removal is : \",res)"
   ]
  },
  {
   "cell_type": "markdown",
   "metadata": {},
   "source": [
    "2. An Ecommerce portal has a list of items available with them in each catogory (inventory) in form of list within the Dictionary.\n",
    "\n",
    "    For example \n",
    "    Inventory= {\n",
    "    \n",
    "      'Men': ['Shirt','Suit','Trouser','Jeans'], \n",
    "    \n",
    "      'Women':['Saree','Dress_suit','Handbag','Jewellery'],\n",
    "     \n",
    "      'Home_appliances': ['TV','Refrigerator'],\n",
    "     \n",
    "      'Kids':     ['Toys','Bags','Books']\n",
    "      \n",
    "     }\n",
    "\n",
    "    Write a program which will take a name of an item, user wants to buy and search it in the inventory. if it’s found in the inventory then print a message like 'item is available'. otherwise ask user 'Would you like to continue buying: yes or no'. If user gives 'yes ' then repeat searching in the inventory otherwise program should stop execution.\n"
   ]
  },
  {
   "cell_type": "code",
   "execution_count": 119,
   "metadata": {},
   "outputs": [
    {
     "name": "stdout",
     "output_type": "stream",
     "text": [
      "{'Men': ['shirt', 'suit', 'trouser', 'jeans'], 'Women': ['saree', 'dress_suit', 'handbag', 'jewellery'], 'Home_appliances': ['tv', 'refrigerator'], 'Kids': ['toys', 'bags', 'books']}\n"
     ]
    }
   ],
   "source": [
    "Inventory= {\n",
    "\n",
    "'Men': ['Shirt','Suit','Trouser','Jeans'],\n",
    "\n",
    "'Women':['Saree','Dress_suit','Handbag','Jewellery'],\n",
    "\n",
    "'Home_appliances': ['TV','Refrigerator'],\n",
    "\n",
    "'Kids': ['Toys','Bags','Books']\n",
    "\n",
    "}\n",
    "inv = []\n",
    "count = 0\n",
    "for sub in Inventory.keys():\n",
    "    for i in Inventory[sub]:\n",
    "        inv.append(i.lower())\n",
    "    Inventory[sub] = inv\n",
    "    inv = []\n",
    "print(Inventory)"
   ]
  },
  {
   "cell_type": "code",
   "execution_count": 126,
   "metadata": {},
   "outputs": [
    {
     "name": "stdout",
     "output_type": "stream",
     "text": [
      "Would you like to make a purchase?(Y/N)y\n",
      "Which product do you want?suit\n",
      "Item is available\n",
      "Would you like to continue buying?: Y/Nn\n",
      "Thank you for visiting\n"
     ]
    }
   ],
   "source": [
    "req = input('Would you like to make a purchase?(Y/N)')\n",
    "req = req.upper()\n",
    "if(req=='N' or req=='Y'):\n",
    "    while(req=='Y'):\n",
    "        product = input('Which product do you want?')\n",
    "        for sub in Inventory.values():\n",
    "            if (product in sub):\n",
    "                print('Item is available')\n",
    "            else:\n",
    "                req = input('Would you like to continue buying?: Y/N')\n",
    "                if(req=='Y'):\n",
    "                    continue\n",
    "                else:\n",
    "                    print('Thank you for visiting')\n",
    "                    break\n",
    "else:\n",
    "    print('Input not in proper format')               "
   ]
  },
  {
   "cell_type": "markdown",
   "metadata": {},
   "source": [
    "3. A website team wants to review the feedback they got for particular product by users on social media. For which they   want to do analysis by counting frequencies of words in user given feedback after removing punctuations and stop words. list of punctuations and stop words is given below.\n",
    "\n",
    "    Write a program to find frequency of each meaningful word in given paragraph and display the word which appeared most in paragraph. (Dont consider punctuations and stop words)\n",
    "\n",
    "    punctuations= ['!','@','#','$','%','&','?','/','<','.',''']\n",
    "stopwords= ['the','i', 'me', 'my', 'myself', 'we', 'our', 'ours', 'ourselves', 'you', 'your', 'yours', 'yourself', 'yourselves', 'he', 'him', 'his', 'himself', 'she', 'her', 'hers', 'herself', 'it', 'its', 'itself', 'they', 'them', 'their', 'theirs', 'themselves', 'what', 'which', 'who', 'whom', 'this', 'that', 'these', 'those', 'am', 'is', 'are', 'was', 'were', 'be', 'been', 'being', 'have', 'has', 'had', 'having', 'do', 'does', 'did', 'doing', 'a', 'an', 'the', 'and', 'but', 'if', 'or', 'because', 'as', 'until', 'while', 'of', 'at', 'by', 'for', 'with', 'about', 'against', 'between', 'into', 'through', 'during', 'before', 'after', 'above', 'below', 'to', 'from', 'up', 'down', 'in', 'out', 'on', 'off', 'over', 'under', 'again', 'further', 'then', 'once', 'here', 'there', 'when', 'where', 'why', 'how', 'all', 'any', 'both', 'each', 'few', 'more', 'most', 'other', 'some', 'such', 'no', 'nor', 'not', 'only', 'own', 'same', 'so', 'than', 'too', 'very', 's', 't', 'can', 'will', 'just', 'don', 'should', 'now', 'd', 'll', 'm', 'o', 're', 've', 'y', 'ain', 'aren', 'couldn', 'didn', 'doesn', 'hadn', 'hasn', 'haven', 'isn', 'ma', 'mightn', 'mustn', 'needn', 'shan', 'shouldn', 'wasn', 'weren', 'won', 'wouldn']\n",
    "\n",
    "  paragraph= \"\"\" I have been using Flipkart for about five years . This is a very good website for online shopping and its products are very good and reliable. From time to time, Flipkart comes out with very good offers, it offers very good discounts on big brands, which makes it cheaper and better to shop on it. The products of Flipkart are delivered at the right time and the order you ordered reaches you. Their customer support is very good and whenever I have a problem, they have solved it very quickly and in a good way. Nowadays they has started offering supercoins that you can earn supercoins on your shopping and use them in many things!!!.\"\"\"\n"
   ]
  },
  {
   "cell_type": "code",
   "execution_count": 19,
   "metadata": {},
   "outputs": [],
   "source": [
    "import re\n",
    "punctuations= ['!','@','#','$','%','&','?','/','<','.','\\''] \n",
    "stopwords = ['the','i', 'me', 'my', 'myself', 'we', 'our', 'ours', 'ourselves', \n",
    "            'you', 'your', 'yours', 'yourself', 'yourselves', 'he', 'him', 'his',\n",
    "            'himself', 'she', 'her', 'hers', 'herself', 'it', 'its', 'itself',\n",
    "            'they', 'them', 'their', 'theirs', 'themselves', 'what', 'which',\n",
    "            'who', 'whom', 'this', 'that', 'these', 'those', 'am', 'is', 'are',\n",
    "            'was', 'were', 'be', 'been', 'being', 'have', 'has', 'had', 'having',\n",
    "            'do', 'does', 'did', 'doing', 'a', 'an', 'the', 'and', 'but', 'if',\n",
    "            'or', 'because', 'as', 'until', 'while', 'of', 'at', 'by', 'for', 'with',\n",
    "            'about', 'against', 'between', 'into', 'through', 'during', 'before',\n",
    "            'after', 'above', 'below', 'to', 'from', 'up', 'down', 'in', 'out', 'on',\n",
    "            'off', 'over', 'under', 'again', 'further', 'then', 'once', 'here', 'there',\n",
    "            'when', 'where', 'why', 'how', 'all', 'any', 'both', 'each', 'few',\n",
    "            'more', 'most', 'other', 'some', 'such', 'no', 'nor', 'not', 'only',\n",
    "            'own', 'same', 'so', 'than', 'too', 'very', 's', 't', 'can', 'will',\n",
    "            'just', 'don', 'should', 'now', 'd', 'll', 'm', 'o', 're', 've', 'y',\n",
    "            'ain', 'aren', 'couldn', 'didn', 'doesn', 'hadn', 'hasn', 'haven',\n",
    "            'isn', 'ma', 'mightn', 'mustn', 'needn', 'shan', 'shouldn', 'wasn', 'weren', 'won', 'wouldn']\n"
   ]
  },
  {
   "cell_type": "code",
   "execution_count": 32,
   "metadata": {},
   "outputs": [
    {
     "data": {
      "text/plain": [
       "{'I': 44,\n",
       " 'using': 2,\n",
       " 'Flipkart': 32,\n",
       " 'five': 4,\n",
       " 'years': 5,\n",
       " 'This': 6,\n",
       " 'good': 48,\n",
       " 'website': 8,\n",
       " 'online': 9,\n",
       " 'shopping': 56,\n",
       " 'products': 31,\n",
       " 'reliable': 13,\n",
       " 'From': 14,\n",
       " 'time': 35,\n",
       " 'comes': 18,\n",
       " 'offers': 21,\n",
       " 'discounts': 23,\n",
       " 'big': 24,\n",
       " 'brands': 25,\n",
       " 'makes': 26,\n",
       " 'cheaper': 27,\n",
       " 'better': 28,\n",
       " 'shop': 29,\n",
       " 'The': 30,\n",
       " 'delivered': 33,\n",
       " 'right': 34,\n",
       " 'order': 36,\n",
       " 'ordered': 37,\n",
       " 'reaches': 38,\n",
       " 'Their': 39,\n",
       " 'customer': 40,\n",
       " 'support': 41,\n",
       " 'whenever': 43,\n",
       " 'problem': 45,\n",
       " 'solved': 46,\n",
       " 'quickly': 47,\n",
       " 'way': 49,\n",
       " 'Nowadays': 50,\n",
       " 'started': 51,\n",
       " 'offering': 52,\n",
       " 'supercoins': 55,\n",
       " 'earn': 54,\n",
       " 'use': 57,\n",
       " 'many': 58,\n",
       " 'things': 59}"
      ]
     },
     "execution_count": 32,
     "metadata": {},
     "output_type": "execute_result"
    }
   ],
   "source": [
    "str1 =  \"\"\" I have been using Flipkart for about five years . \n",
    "This is a very good website for online shopping and its products are very good and reliable.\n",
    "From time to time, Flipkart comes out with very good offers, it offers very good discounts \n",
    "on big brands, which makes it cheaper and better to shop on it. The products of Flipkart are \n",
    "delivered at the right time and the order you ordered reaches you. Their customer support is \n",
    "very good and whenever I have a problem, they have solved it very quickly and in a good way.\n",
    "Nowadays they has started offering supercoins that you can earn supercoins on your shopping \n",
    "and use them in many things!!!.\"\"\"\n",
    "dict1 = {}\n",
    "count = 0\n",
    "str1 = re.findall(r'\\w+', str1)\n",
    "#print(str1)\n",
    "para = ''\n",
    "for i in str1:\n",
    "    para = para + i + ' '  # Creating a list of words\n",
    "for i in para.split():\n",
    "    if i not in punctuations:\n",
    "        if i not in stopwords:\n",
    "            count+=1\n",
    "            dict1[i]= count\n",
    "dict1                      # Frequency of each meaningful word"
   ]
  }
 ],
 "metadata": {
  "kernelspec": {
   "display_name": "Python 3",
   "language": "python",
   "name": "python3"
  },
  "language_info": {
   "codemirror_mode": {
    "name": "ipython",
    "version": 3
   },
   "file_extension": ".py",
   "mimetype": "text/x-python",
   "name": "python",
   "nbconvert_exporter": "python",
   "pygments_lexer": "ipython3",
   "version": "3.7.3"
  }
 },
 "nbformat": 4,
 "nbformat_minor": 2
}
