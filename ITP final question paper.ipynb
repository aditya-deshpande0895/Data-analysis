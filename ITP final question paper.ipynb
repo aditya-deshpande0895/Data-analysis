{
 "cells": [
  {
   "cell_type": "markdown",
   "metadata": {},
   "source": [
    "<span style=\"font-family: Arial; font-weight:bold;font-size:1em;color:#f0f0f0;\">..............................................\n",
    "    <span style=\"font-family: Arial; font-weight:bold;font-size:3.2em;color:#c7920e;\">Python Programming"
   ]
  },
  {
   "cell_type": "markdown",
   "metadata": {},
   "source": [
    "--------"
   ]
  },
  {
   "cell_type": "markdown",
   "metadata": {},
   "source": [
    "# Dictionaries and if-else ladder:\n"
   ]
  },
  {
   "cell_type": "markdown",
   "metadata": {},
   "source": [
    "--------"
   ]
  },
  {
   "cell_type": "markdown",
   "metadata": {},
   "source": [
    "<span style=\"font-family: Arial; font-weight:bold;font-size:1.5em;color:#5d067d;\">1. In a Flipkart sale, all people who took phone and also ordered phone cover, another people who took shoes also ordered socks and based on the people's choice recommend them the item they are most likely to order?\n",
    "\n",
    "   1. This is list of products and recomendations.\n",
    "    items = [('mobile','cover'),('shoe','socks')]\n",
    "\n",
    "   2. Take input from customer\n",
    "\n",
    "   3. search for the product in items list and return recommended product.\n",
    "    if input is mobile suggest mobile cover, if input is shoe suggest socks\n",
    "\n",
    "   4. Take input from user YES or NO, if he is interested.\n",
    "    Do you want to buy cover: YES\n",
    "\n",
    "   5. Return items in the shopping list like -\n",
    "    \n",
    "    If mobile is bought,then it should also suggest cover.\n",
    "    "
   ]
  },
  {
   "cell_type": "code",
   "execution_count": 5,
   "metadata": {},
   "outputs": [
    {
     "name": "stdout",
     "output_type": "stream",
     "text": [
      "Which item to buy?(mobile/shoe)shoe\n",
      "Would you like to see recommendations?(Y/N)N\n",
      "Product bought shoe recommendation N\n"
     ]
    }
   ],
   "source": [
    "itemlist = {'mobile':['cover1','cover2'],'shoe':['socks1','socks2']}\n",
    "cust = input('Which item to buy?(mobile/shoe)')\n",
    "mobile = ['Samsung','Nokia','Xiaomi','One plus']\n",
    "shoes = ['Nike','Addidas','Bata','Paragon']\n",
    "rec = input('Would you like to see recommendations?(Y/N)')\n",
    "if(rec=='Y' and cust == 'mobile'):\n",
    "    print('Recommended brands are',mobile)\n",
    "    print('Frequently bought together ',itemlist['mobile'])\n",
    "elif(rec=='Y' and cust=='shoe'):\n",
    "    print('Recommended brands are',shoes)\n",
    "    print('Frequently bought together ',itemlist['shoe'])\n",
    "elif(rec=='N'):\n",
    "    print('Product bought',cust,'recommendation',rec)\n",
    "else:\n",
    "    print('Invalid entry for recommendation or product')"
   ]
  },
  {
   "cell_type": "markdown",
   "metadata": {},
   "source": [
    "<span style=\"font-family: Arial; font-weight:bold;font-size:1.5em;color:#5d067d;\">2. There is Government rules for which age groups allowed to watch movies categories. There is some categories, General Audiences: All ages admitted. Nothing that would offend parents for viewing by children.Parental Guidance Suggested:Some material may not be suitable for children. Nowadays all movies watching online so you need to find before watching the movies find the age limit. If the age limits wrong your not providing the tickets.\n",
    "    \n",
    "1. Create a dictionary of age limit according to  movie names take like below.\n",
    "    \n",
    "| Movie Names |  Age limit and number of seats |\n",
    "| ------- |  ------ |\n",
    "| A Little Princess |  Age= 11, seats= 5 |\n",
    "| Millennium |Age= 18,seats= 5 |\n",
    "| Hangover |  Age= 15,seats= 7 |\n",
    "| Frozen | Age= 12,seats= 4 |\n",
    "| Hangover II |Age= 15,seats= 6 |\n",
    "| Shrek| Age= 12, seats= 5|\n",
    "\n",
    "  2. After that it will ask \"What film would you like to watch?:\" You need to choose the movie name give list.\n",
    "    \n",
    "  3. After choosing the movie program will ask \"How old are you?:\" you need to give the age limit\n",
    "    \n",
    "  4. then age limit is correct code will show \"Enjoy the film!\"\n",
    "     \n",
    "  5. if it is wrong \"Sorry, we don't have tickets\"  than movie name is not here it will how  it will show \"You are too young to watch this movie.\"?"
   ]
  },
  {
   "cell_type": "code",
   "execution_count": null,
   "metadata": {},
   "outputs": [
    {
     "name": "stdout",
     "output_type": "stream",
     "text": [
      "How old are you?12\n",
      "Which movie do you want to watch?shrek\n",
      "Enjoy the movie\n",
      "Do you want to continue?(Y/N)Y\n",
      "How old are you?12\n",
      "Which movie do you want to watch?shrek\n",
      "Enjoy the movie\n",
      "Do you want to continue?(Y/N)Y\n",
      "How old are you?12\n",
      "Which movie do you want to watch?shrek\n",
      "Enjoy the movie\n",
      "Do you want to continue?(Y/N)Y\n",
      "How old are you?12\n",
      "Which movie do you want to watch?shrek\n",
      "Enjoy the movie\n",
      "Do you want to continue?(Y/N)Y\n",
      "How old are you?12\n",
      "Which movie do you want to watch?shrek\n",
      "Enjoy the movie\n",
      "Housefull\n",
      "Do you want to continue?(Y/N)Y\n",
      "How old are you?12\n",
      "Which movie do you want to watch?shrek\n",
      "Housefull\n"
     ]
    }
   ],
   "source": [
    "age = {'a little princess':11,'millennium':18,'hangover':15,'frozen':12,'hangover II':15,'shrek':12}\n",
    "seats = {'a little princess':5,'millennium':5,'hangover':7,'frozen':4,'hangover II':6,'shrek':5}\n",
    "movie = {'Movie age':age,'Movie seats':seats}\n",
    "movielist=['a little princess','millennium','hangover','frozen','hangover II','shrek']\n",
    "while(1):\n",
    "    age = int(input('How old are you?'))\n",
    "    cust = input('Which movie do you want to watch?')\n",
    "    cust = cust.lower()\n",
    "    if(cust=='a little princess'):\n",
    "        if(age<movie['Movie age'][cust]):\n",
    "            print('Age limit is ',movie['Movie age'][cust],'we request you to follow rules')\n",
    "        elif(age>=movie['Movie age'][cust] and movie['Movie seats'][cust]!=0):\n",
    "            print('Enjoy the movie')\n",
    "            movie['Movie seats'][cust] = movie['Movie seats'][cust] - 1\n",
    "              \n",
    "    elif(cust=='millennium'):\n",
    "        if(age<movie['Movie age'][cust]):\n",
    "            print('Age limit is ',movie['Movie age'][cust],'we request you to follow rules')\n",
    "        elif(age>=movie['Movie age'][cust] and movie['Movie seats'][cust]!=0):\n",
    "            print('Enjoy the movie')\n",
    "            movie['Movie seats'][cust] = movie['Movie seats'][cust] - 1\n",
    "               \n",
    "    elif(cust=='hangover'):\n",
    "        if(age<movie['Movie age'][cust]):\n",
    "            print('Age limit is ',movie['Movie age'][cust],'we request you to follow rules')\n",
    "        elif(age>=movie['Movie age'][cust] and movie['Movie seats'][cust]!=0):\n",
    "            print('Enjoy the movie')\n",
    "            movie['Movie seats'][cust] = movie['Movie seats'][cust] - 1\n",
    "               \n",
    "    elif(cust=='frozen'):\n",
    "        if(age<movie['Movie age'][cust]):\n",
    "            print('Age limit is ',movie['Movie age'][cust],'we request you to follow rules')\n",
    "        elif(age>=movie['Movie age'][cust] and movie['Movie seats'][cust]!=0):\n",
    "            print('Enjoy the movie')\n",
    "            movie['Movie seats'][cust] = movie['Movie seats'][cust] - 1\n",
    "                \n",
    "    elif(cust=='hangover II'):\n",
    "        if(age<movie['Movie age'][cust]):\n",
    "            print('Age limit is ',movie['Movie age'][cust],'we request you to follow rules')\n",
    "        elif(age>=movie['Movie age'][cust] and movie['Movie seats'][cust]!=0):\n",
    "            print('Enjoy the movie')\n",
    "            movie['Movie seats'][cust] = movie['Movie seats'][cust] - 1\n",
    "        \n",
    "    elif(cust=='shrek'):\n",
    "        if(age<movie['Movie age'][cust]):\n",
    "            print('Age limit is ',movie['Movie age'][cust],'we request you to follow rules')\n",
    "        elif(age>=movie['Movie age'][cust] and movie['Movie seats'][cust]!=0):\n",
    "            print('Enjoy the movie')\n",
    "            movie['Movie seats'][cust] = movie['Movie seats'][cust] - 1\n",
    "    \n",
    "    elif(cust not in movielist):\n",
    "        print('Movie not in movie list')\n",
    "        break\n",
    "    if(movie['Movie seats'][cust]==0):\n",
    "        print('Housefull')\n",
    "    cond = input('Do you want to continue?(Y/N)')\n",
    "    if(cond=='Y'):\n",
    "        continue\n",
    "    elif(cond=='N'):\n",
    "        break\n",
    "    else:\n",
    "        print('Invalid input')\n",
    "        break"
   ]
  },
  {
   "cell_type": "markdown",
   "metadata": {},
   "source": [
    "<span style=\"font-family: Arial; font-weight:bold;font-size:1.5em;color:#5d067d;\">3 .Suppose the cover price of the  book ‘Steve Jobs: The Life, Lessons & Rules for Success’ is $ 49.65,\n",
    "\n",
    "<span style=\"font-family: Arial; font-weight:bold;font-size:1.5em;color:#5d067d;\">but Harvard bookstores gets a 35% discount from the publisher \" Createspace Independent Pub\" .Shipping costs is $4.65 for the first copy and 78 cents for each additional copy from the publisher. What is the total wholesale cost for 60 ,100 and 150 copies?\n",
    "    \n",
    "    \n",
    "    \n",
    "   1. Create a list to store the cover price and also, \n",
    "   2. Create a user input which takes the total wholesale cost for 60 ,100 and 150 copies cost separately.\n",
    "   3. Define function which will display the shipping cost.\n",
    "   4. Create another function to return discount price and also wholesale cost.\n",
    "   5. Display the cost of  number of books bought  and wholesale cost.\n",
    "    "
   ]
  },
  {
   "cell_type": "code",
   "execution_count": 51,
   "metadata": {},
   "outputs": [],
   "source": [
    "def actual(number,price):\n",
    "    total=0\n",
    "    for i in range(1,number+1):\n",
    "        if(i==1):\n",
    "            total = price + 4.65\n",
    "        else:    \n",
    "            total = total + 0.78\n",
    "    print('Price of first copy is ',price+4.65,' Price of remaining copies is ',price+0.78,' without discount.')\n",
    "    print('Total cost is ',round(total,2))\n",
    "def discount(number,price):\n",
    "    total=0\n",
    "    price = price * 0.65\n",
    "    for i in range(1,number+1):\n",
    "        if(i==1):\n",
    "            total = price + 4.65\n",
    "            \n",
    "        else:    \n",
    "            total = total + 0.78\n",
    "    print('Price of first copy is ',price+4.65,' Price of remaining copies is ',price+0.78,' with discount.')\n",
    "    print('Total cost is ',round(total,2))\n",
    "    "
   ]
  },
  {
   "cell_type": "code",
   "execution_count": 4,
   "metadata": {},
   "outputs": [
    {
     "name": "stdout",
     "output_type": "stream",
     "text": [
      "Quote the total number of books60\n",
      "Price of single copy in $49.65\n",
      "Price of first copy is  54.3  Price of remaining copies is  50.43  without discount.\n",
      "Total cost is  100.32\n",
      "Price of first copy is  36.9225  Price of remaining copies is  33.0525  with discount.\n",
      "Total cost is  82.94\n",
      "Are there more books?(Y/N)Y\n",
      "Quote the total number of books100\n",
      "Price of single copy in $49.65\n",
      "Price of first copy is  54.3  Price of remaining copies is  50.43  without discount.\n",
      "Total cost is  131.52\n",
      "Price of first copy is  36.9225  Price of remaining copies is  33.0525  with discount.\n",
      "Total cost is  114.14\n",
      "Are there more books?(Y/N)Y\n",
      "Quote the total number of books150\n",
      "Price of single copy in $49.65\n",
      "Price of first copy is  54.3  Price of remaining copies is  50.43  without discount.\n",
      "Total cost is  170.52\n",
      "Price of first copy is  36.9225  Price of remaining copies is  33.0525  with discount.\n",
      "Total cost is  153.14\n",
      "Are there more books?(Y/N)N\n"
     ]
    }
   ],
   "source": [
    "while(1):    \n",
    "    n = int(input('Quote the total number of books'))\n",
    "    price = float(input('Price of single copy in $'))\n",
    "    actual(n,price)\n",
    "    discount(n,price)\n",
    "    cond = input('Are there more books?(Y/N)')\n",
    "    if(cond=='Y'):\n",
    "        continue\n",
    "    elif(cond=='N'):\n",
    "        break\n",
    "    else:\n",
    "        print('Invalid input')\n",
    "        break"
   ]
  },
  {
   "cell_type": "markdown",
   "metadata": {},
   "source": [
    "<span style=\"font-family: Arial; font-weight:bold;font-size:1.5em;color:#5d067d;\">4. Design an air traffic control unit. Run way should be either free or busy,Each plane should request for landing, if the plane is given permission for landing the run way should be changed to busy and no plane should be given access to that runway.\n",
    "\n",
    "   1. Make a list of free run ways\n",
    "   \n",
    "    free_run_ways = [3,4,5]\n",
    "\n",
    "   2. Make a list of busy run ways.\n",
    "   \n",
    "    busy_run_ways = [1,2]\n",
    "\n",
    "   3. when pilot requests for landing give him runway from free run way and \n",
    "   \n",
    "    remove it from free and add to busy.\n",
    "    \n",
    "    runway given: 4\n",
    "    \n",
    "    free_run_ways = [3,5]\n",
    "    \n",
    "    busy_run_ways = [1,2,4]\n",
    "\n",
    "   4. If busy runway is given raise warning.\n",
    "   \n",
    "    WARNING run way busy\n",
    "\n",
    "   5. On landing remove runway from busy and add to free\n",
    "   \n",
    "    Landed: YES"
   ]
  },
  {
   "cell_type": "markdown",
   "metadata": {},
   "source": [
    "### Unsolved"
   ]
  },
  {
   "cell_type": "markdown",
   "metadata": {},
   "source": [
    "### Algorithm:\n",
    "1. Initially all runways are free.\n",
    "2. Initially ask if someone is ready for landing and ask till no is entered. Also consider the number of runways in total      i.e if 5 runways are available and there are 6 requests then say runway busy to the 6th.\n",
    "3. Assign the runway as per the number of requests and find free and busy runways.\n",
    "4. Again ask if someone is ready for landing,considering the available slots reject a request. For eg. if runways are 2 and    there is a third request then say busy.\n",
    "5. Ask the previously assigned person if he has landed and find the free and busy runways. Go to step 4."
   ]
  },
  {
   "cell_type": "code",
   "execution_count": 1,
   "metadata": {},
   "outputs": [
    {
     "name": "stdout",
     "output_type": "stream",
     "text": [
      "Ready for landing?(Y/N)Y\n",
      "Ready for landing?(Y/N)Y\n",
      "Ready for landing?(Y/N)Y\n",
      "Ready for landing?(Y/N)Y\n",
      "Ready for landing?(Y/N)Y\n",
      "[] [5, 4, 3, 2, 1]\n"
     ]
    }
   ],
   "source": [
    "free = [1,2,3,4,5]\n",
    "busy = []\n",
    "count = 0\n",
    "for i in range(len(free)):\n",
    "    req = input('Ready for landing?(Y/N)')\n",
    "    if(req=='Y'):\n",
    "        assign = free.pop()\n",
    "        busy.append(assign)\n",
    "        count+=1\n",
    "        print('Free runways',free)\n",
    "        print('Busy runways',busy)\n",
    "    elif(req=='N'):\n",
    "        pass\n",
    "        new = input('Are there any new requests?(Y/N)')\n",
    "        if(new=='Y' and len(free)-count!=0):\n",
    "            assignnew = free.pop()\n",
    "            busy.append(assignnew)\n",
    "            count+=1\n",
    "            print('Free runways',free)\n",
    "            print('Busy runways',busy)\n",
    "        elif(new=='N'):\n",
    "            land = input('Have previous requests successfully landed?(Y/N)')\n",
    "            if(land=='Y'):\n",
    "                rev = busy\n",
    "        \n",
    "            \n",
    "        \n",
    "print(free,busy)"
   ]
  },
  {
   "cell_type": "code",
   "execution_count": 7,
   "metadata": {},
   "outputs": [
    {
     "name": "stdout",
     "output_type": "stream",
     "text": [
      "[1, 3, 4] [2]\n"
     ]
    }
   ],
   "source": [
    "free = [1,2,3,4,5]\n",
    "busy = []\n",
    "for i in free:\n",
    "    req = input('Ready for landing?(Y/N)')\n",
    "    if(req=='Y'):\n",
    "        landing = free.pop()\n",
    "        busy.append(landing)\n",
    "        status = input('Landed?(Y/N)')\n",
    "        if(status=='Y'):\n",
    "            landed = busy.pop() \n",
    "    \n",
    "    "
   ]
  },
  {
   "cell_type": "code",
   "execution_count": null,
   "metadata": {},
   "outputs": [],
   "source": [
    "if(i==2):\n",
    "        free.remove(i)\n",
    "        busy.append(i)\n",
    "print(free,busy)"
   ]
  },
  {
   "cell_type": "code",
   "execution_count": 8,
   "metadata": {},
   "outputs": [
    {
     "data": {
      "text/plain": [
       "5"
      ]
     },
     "execution_count": 8,
     "metadata": {},
     "output_type": "execute_result"
    }
   ],
   "source": [
    "free=[1,2,3,4,5]\n",
    "l = free.pop()\n",
    "l"
   ]
  },
  {
   "cell_type": "markdown",
   "metadata": {},
   "source": [
    "-------------"
   ]
  },
  {
   "cell_type": "markdown",
   "metadata": {},
   "source": [
    "#  2 Questions X  10 Marks = 20 Marks\n"
   ]
  },
  {
   "cell_type": "markdown",
   "metadata": {},
   "source": [
    "--------"
   ]
  },
  {
   "cell_type": "markdown",
   "metadata": {},
   "source": [
    "<span style=\"font-family: Arial; font-weight:bold;font-size:1.5em;color:#5d067d;\">1.Your friend will take you to the doctor’s clinic for a check-up. He asks the time by which you have to book a taxi. Your friend has some works :  going to the dry-cleaners in the mall, have lunch in the restaurant, buy some dog food at the pet-shop, take money in the bank,  to be done on the way,\n",
    "It takes 'x' minutes to drive to the mall and park the vehicle, and 'y' minutes to get the clothes dry cleaned, ‘z' minutes for lunch, 'a' minutes to get dog food, 'b' minutes to get money at the bank and 'c' minutes to drive to the doctor’s clinic from the mall.  Given the values for ‘x’, ‘y’, ‘z’, ‘a’ and ‘b’ and the time of appointment as 'h' hour 'm' minutes, write an algorithm and the subsequent Python code to determine when you should leave home. For example if x is 10, y is 30, z is 65, a is 40, b is 20, c is 80 and h is 12 and m is 0, then output of the program is start from home by 7hours 55minutes .\n",
    "    \n",
    "Write appropriate functions for accomplishing the task.\n",
    "\n",
    "Input Format\n",
    "\n",
    "    First line contains the value for ‘x’\n",
    "    Next line contains the value for ‘y’\n",
    "    Next line contains the value for ‘z’\n",
    "    Next line contains the value for ‘a’\n",
    "    Next line contains the value for ‘b’\n",
    "    Next line contains the value for ‘c’\n",
    "    Next line contains the value for ‘h’\n",
    "    Next line contains the value for ‘m’\n",
    "    Output Format \n",
    "    Print the start time from home in ‘hours’ and ‘minutes’ in 24 hour format.  Hours and minutes shall be separated by a space."
   ]
  },
  {
   "cell_type": "markdown",
   "metadata": {},
   "source": [
    "Search for:How to add and subtract time if provided in hours and minutes?"
   ]
  },
  {
   "cell_type": "markdown",
   "metadata": {},
   "source": [
    "### Algorithm:\n",
    "1. Function 1:First calculate the total time required in minutes for all activities and convert into hours and minutes        format.\n",
    "2. Function 2:Find the actual time of leaving using the appointment time in hours/minutes and time from Function 1 in          hours/minutes.\n",
    "3. Use 24 hour time format."
   ]
  },
  {
   "cell_type": "code",
   "execution_count": 52,
   "metadata": {},
   "outputs": [],
   "source": [
    "def worktime():\n",
    "    x = int(input('How much time required to reach the mall?(in minutes)'))\n",
    "    y = int(input('How much time required for dry cleaning?(in minutes)'))\n",
    "    z = int(input('How much time required for lunch?(in minutes)'))\n",
    "    a = int(input('How much time required to get dog food?(in minutes)'))\n",
    "    b = int(input('How much time required to withdraw cash?(in minutes)'))\n",
    "    c = int(input('How much time required to reach doctor\\'s clinic?(in minutes)'))\n",
    "    total = x+y+z+a+b+c\n",
    "    hrs = total//60\n",
    "    mins = total%60\n",
    "    return hrs,mins\n",
    "def timeleave(h1,m1):\n",
    "    h = int(input('What is the time of appointment?(in hours)'))\n",
    "    m = int(input('How many minutes post the hour?(in minutes)'))\n",
    "    if(m-m1<0):\n",
    "        newmin = 60+m-m1\n",
    "        temphr = h-h1-1\n",
    "        if(h-h1-1<0):\n",
    "            newhr = 24+temphr\n",
    "            print('Time to leave in hours ',newhr,' in minutes ',newmin,' in the previous day')\n",
    "        else:\n",
    "            newhr = temphr\n",
    "            print('Time to leave in hours ',newhr,' in minutes ',newmin)\n",
    "    elif(m-m1>0 and h-h1<0):\n",
    "        newhr = 24+h-h1\n",
    "        newmin = m-m1\n",
    "        print('Time to leave in hours ',newhr,' in minutes ',newmin,' in the previous day')"
   ]
  },
  {
   "cell_type": "code",
   "execution_count": 54,
   "metadata": {},
   "outputs": [
    {
     "name": "stdout",
     "output_type": "stream",
     "text": [
      "How much time required to reach the mall?(in minutes)23\n",
      "How much time required for dry cleaning?(in minutes)30\n",
      "How much time required for lunch?(in minutes)30\n",
      "How much time required to get dog food?(in minutes)10\n",
      "How much time required to withdraw cash?(in minutes)5\n",
      "How much time required to reach doctor's clinic?(in minutes)80\n",
      "What is the time of appointment?(in hours)11\n",
      "How many minutes post the hour?(in minutes)20\n",
      "Time to leave in hours  8  in minutes  22\n"
     ]
    }
   ],
   "source": [
    "hours,minutes = worktime()\n",
    "timeleave(hours,minutes)"
   ]
  },
  {
   "cell_type": "markdown",
   "metadata": {},
   "source": [
    "https://www.mathsisfun.com/time-add-subtract.html"
   ]
  },
  {
   "cell_type": "markdown",
   "metadata": {},
   "source": [
    "<span style=\"font-family: Arial; font-weight:bold;font-size:1.5em;color:#5d067d;\">2. India conducted a survey on Data Secience colleges in India. Let us assume that the survey was conducted in ‘n’ number of institutes. The experts were asked to rank the institutes based on three different metrics. The metrics are facilities, academics and infrastructure. Maximum score in each category is as follows.\n",
    "    \n",
    "    Facilities = 25\n",
    "    Academics = 50\n",
    "    Infrastructure = 25\n",
    "\n",
    "At the end of the survey the scores of the individual metrics are added up to get the total score and the institutes are ranked based on the total score. The institute that scores the highest score is ranked 1st. Next highest score is given the rank 2 and so on. Write a program to read the scores of the three metrics for each institute, store the scores in a list. Make a list of individual score list for 3 institutes. Print only the Total score in the sorted (Descending) order. \n",
    "\n",
    "**Input format:**\n",
    "\n",
    "    First line contains the number of institutes\n",
    "    Next line contains the scores for Facilities of Institute 1\n",
    "    Next line contains the scores for Academics of Institute 1\n",
    "    Next line contains the scores for Infrastructure of Institute 1\n",
    "    Next line contains the scores for Facilities of Institute 2\n",
    "    Next line contains the scores for Academics of Institute 2\n",
    "    Next line contains the scores for Infrastructure of Institute 2\n",
    "    Next line contains the scores for Facilities of Instituten\n",
    "    Next line contains the scores for Academics of Instituten\n",
    "    Next line contains the scores for Infrastructure of Instituten\n",
    "    \n",
    "    \n",
    "    Note: Facilities = 25 if your giving above 25 code will display:\"score cant exceed 25, please enter again\"\n",
    "          Academics = 50 if your giving above 50 code will display:\"score cant exceed 50, please enter again\"\n",
    "          Infrastructure = 25 if your giving above 25 code will display:\"score cant exceed 25, please enter again\"\n",
    "    \n",
    "**Output format:**\n",
    "\n",
    "List of total scores in the descending order\n",
    "sample input:\n",
    "\n",
    "    3 \n",
    "    20\n",
    "    20\n",
    "    20\n",
    "    22\n",
    "    22\n",
    "    22\n",
    "    21\n",
    "    21\n",
    "    21\n",
    "**sample output:**\n",
    "[66,63,60]"
   ]
  },
  {
   "cell_type": "markdown",
   "metadata": {},
   "source": [
    "Search for: how to accept multiple inputs from user in python."
   ]
  },
  {
   "cell_type": "code",
   "execution_count": 21,
   "metadata": {},
   "outputs": [],
   "source": [
    "def checkfunction(fac,ac,inf):\n",
    "        f = 0\n",
    "        while((fac>25) and (ac<=50) and (inf<=25)):\n",
    "            print('Cannot exceed the specified limits for facilities,please enter again')\n",
    "            fac = int(input('How much will you rate for facilities in the scale of 1 to 25?'))\n",
    "            if((fac>25) and (ac<=50) and (inf<=25)):\n",
    "                continue\n",
    "        while((fac<=25) and (ac>50) and (inf<=25)):\n",
    "            print('Cannot exceed the specified limits for academics,please enter again')\n",
    "            ac = int(input('How much will you rate for academics in the scale of 1 to 50?'))\n",
    "            if((fac<=25) and (ac>50) and (inf<=25)):\n",
    "                continue\n",
    "        while((fac<=25) and (ac<=50) and (inf>25)):\n",
    "            print('Cannot exceed the specified limits for infrasturcture,please enter again')\n",
    "            inf = int(input('How much will you rate for infrasturcture in the scale of 1 to 25?'))\n",
    "            if((fac<=25) and (ac<=50) and (inf>25)):\n",
    "                continue\n",
    "        while((fac>25) and (ac>50) and (inf<=25)):\n",
    "            print('Cannot exceed the specified limits for facilities and academics please enter again')\n",
    "            fac = int(input('How much will you rate for facilities in the scale of 1 to 25?'))\n",
    "            ac = int(input('How much will you rate for academics in the scale of 1 to 50?'))\n",
    "            if((fac>25) and (ac>50) and (inf<=25)):\n",
    "                continue\n",
    "            elif((fac<=25 and ac>50) or (fac>25 and ac<=50)):\n",
    "                f = 1\n",
    "                \n",
    "        while((fac>25) and (ac<=50) and (inf>25)):\n",
    "            print('Cannot exceed the specified limits for facilities and infrastructure please enter again')\n",
    "            fac = int(input('How much will you rate for facilities in the scale of 1 to 25?'))\n",
    "            inf = int(input('How much will you rate for infrastructure in the scale of 1 to 25?'))\n",
    "            if((fac>25) and (ac<=50) and (inf>25)):\n",
    "                continue\n",
    "            elif((fac<=25 and inf>25) or (fac>25 and inf<=25)):\n",
    "                f = 1\n",
    "                \n",
    "        while((fac<=25) and (ac>50) and (inf>25)):\n",
    "            print('Cannot exceed the specified limits for infrastructure and academics please enter again')\n",
    "            ac = int(input('How much will you rate for academics in the scale of 1 to 50?'))\n",
    "            inf = int(input('How much will you rate for infrastructure in the scale of 1 to 25?'))\n",
    "            if((fac<=25) and (ac>50) and (inf>25)):\n",
    "                continue\n",
    "            elif((ac>50 and inf<=25) or (ac<=50 and inf>25)):\n",
    "                f = 1\n",
    "                \n",
    "        while((fac>25) and (ac>50) and (inf>25)):\n",
    "            print('Cannot exceed the specified limits for facilities, academics and infrastructure')\n",
    "            fac = int(input('How much will you rate for facilities in the scale of 1 to 25?'))\n",
    "            ac = int(input('How much will you rate for academics in the scale of 1 to 50?'))\n",
    "            inf = int(input('How much will you rate for infrastructure in the scale of 1 to 25?'))\n",
    "            if((fac>25) and (ac>50) and (inf>25)):\n",
    "                continue\n",
    "            else:\n",
    "                f = 1\n",
    "            \n",
    "        while(fac<1 or ac<1 or inf<1):\n",
    "            print('Cannot take negitive or zero values re-enter all values again')\n",
    "            fac = int(input('How much will you rate for facilities in the scale of 1 to 25?'))\n",
    "            ac = int(input('How much will you rate for academics in the scale of 1 to 50?'))\n",
    "            inf = int(input('How much will you rate for infrastructure in the scale of 1 to 25?'))\n",
    "            if(fac<1 or ac<1 or inf<1):\n",
    "                continue\n",
    "            else:\n",
    "                f = 1\n",
    "        if(f==1):\n",
    "            fac=ac=inf=0\n",
    "            return f,fac,ac,inf\n",
    "        else:\n",
    "            f = 0\n",
    "            return f,fac,ac,inf\n"
   ]
  },
  {
   "cell_type": "code",
   "execution_count": 22,
   "metadata": {
    "scrolled": true
   },
   "outputs": [
    {
     "name": "stdout",
     "output_type": "stream",
     "text": [
      "How many institutes?1\n",
      "For institute  1\n",
      "How much will you rate for facilities in the scale of 1 to 25?22\n",
      "How much will you rate for academics in the scale of 1 to 50?54\n",
      "How much will you rate for infrasturcture in the scale of 1 to 25?27\n",
      "Cannot exceed the specified limits for infrastructure and academics please enter again\n",
      "How much will you rate for academics in the scale of 1 to 50?34\n",
      "How much will you rate for infrastructure in the scale of 1 to 25?27\n",
      "Please enter all values without mistakes.\n",
      "How much will you rate for facilities in the scale of 1 to 25?22\n",
      "How much will you rate for academics in the scale of 1 to 50?34\n",
      "How much will you rate for infrasturcture in the scale of 1 to 25?17\n",
      "Score for institute 1 is  73\n",
      "Scores are  [73]\n"
     ]
    }
   ],
   "source": [
    "n = int(input('How many institutes?'))\n",
    "scorelist = []\n",
    "single = []\n",
    "flag = 0\n",
    "for i in range(n):\n",
    "        print('For institute ',i+1)\n",
    "        fac = int(input('How much will you rate for facilities in the scale of 1 to 25?'))\n",
    "        ac = int(input('How much will you rate for academics in the scale of 1 to 50?'))\n",
    "        inf = int(input('How much will you rate for infrasturcture in the scale of 1 to 25?'))\n",
    "        flag,fac,ac,inf = checkfunction(fac,ac,inf)\n",
    "\n",
    "        while(flag==1):\n",
    "        \n",
    "            print('Please enter all values without mistakes.')\n",
    "            fac = int(input('How much will you rate for facilities in the scale of 1 to 25?'))\n",
    "            ac = int(input('How much will you rate for academics in the scale of 1 to 50?'))\n",
    "            inf = int(input('How much will you rate for infrasturcture in the scale of 1 to 25?'))\n",
    "            flag,fac,ac,inf = checkfunction(fac,ac,inf)\n",
    "            if(flag==1):\n",
    "                continue\n",
    "            elif(flag==0):\n",
    "                flag,fac,ac,inf = checkfunction(fac,ac,inf)\n",
    "                break\n",
    "            \n",
    "        single.append(fac)\n",
    "        single.append(ac)\n",
    "        single.append(inf)\n",
    "        score = fac+ac+inf\n",
    "        print('Score for institute',i+1,'is ',score)\n",
    "        scorelist.append(score)\n",
    "        \n",
    "scorelist.sort(reverse=True)\n",
    "print('Scores are ',scorelist)"
   ]
  },
  {
   "cell_type": "markdown",
   "metadata": {},
   "source": [
    "------------"
   ]
  },
  {
   "cell_type": "markdown",
   "metadata": {},
   "source": [
    "#  2 Questions X  15 Marks = 30 Marks\n",
    "\n"
   ]
  },
  {
   "cell_type": "markdown",
   "metadata": {},
   "source": [
    "----------"
   ]
  },
  {
   "cell_type": "markdown",
   "metadata": {},
   "source": [
    "<span style=\"font-family: Arial; font-weight:bold;font-size:1.5em;color:#5d067d;\">1.You won a lottery ticket at your office.You have a chance to attend given list of best party places in bangalore timings at (6 pm to 12 am). Because of the high demand for tickets you only get to stay for one hour but you get to pick your choice of party place since you received a special ticket. You have access to a schedule that lists when exactly each loction is going to host the party. You want to get as many pictures with celebrities as possible to improve your social standing. This means you wish to go for the hour when you get to hob-nob with the maximum number of loction and get selfies with each of party location. We are given a list of intervals that correspond to when each celebrity and locations comes and goes. Assume that these intervals are **(i,j)**, where  i and j correspond to hours. That is, the interval is closed on the left hand side and open on the right hand side. This just means that the celebrity will be partying on and through the hour, but enter at \"ith hour\" and goes at \"jth hour\". So even if you arrive on dot on the \"jth hour\", you will miss this particular celebrity.\n",
    "    \n",
    "    Here’s an example: \n",
    "    \n",
    "| loction & celebrity names  |  comes |goes|\n",
    "| ------- |  ------ | ------|\n",
    "| Big Brewsky: Katy Perry |  7  | 10 |\n",
    "| Pebble:Eminam | 7 | 11 |\n",
    "|  XU: justin timberlake | 6 | 8|\n",
    "| Skyye Lounge:ED Sheeran  | 10 | 12|\n",
    "| Ice:Taylor Swift  | 8 | 10|\n",
    "| High Ultra Lounge:Ariana Grande  | 9 | 11|\n",
    "| The Warehouse:Adele  | 6 | 8 |\n",
    "\n",
    "\n",
    "**Problem Statements:**   \n",
    "\n",
    " **Find the how many celebrities are attending the party and at what time? That is, which hour should you go to ?**\n",
    " \n",
    "**Exercise 1:** Suppose your are a busy at work and don’t have complete freedom\n",
    "in choosing when you can go to the party. Add arguments to the procedure. \n",
    "\n",
    "Create function called bestTimeToPartySmart and modify it so it determines the maximum number of\n",
    "celebrities you can see within a given time range between i start and y end. As with\n",
    "celebrities the interval is [i start, y end]  so you are available at all times t such that istart <= t < yend.\n",
    "\"y = employee spending time at party \"\n",
    "\n",
    "**Exercise 2:** There is an alternative way of computing the best time to party that does not\n",
    "depend on the granularity of time. We choose each celebrity interval in turn, and\n",
    "determine how many other celebrity intervals contain the chosen celebrity’s start time.\n",
    "We pick the time to attend the party to be the start time of the celebrity whose start time\n",
    "is contained in the maximum number of other celebrity intervals. Code this algorithm\n",
    "and verify that it produces the same answer as the algorithm based on sorting. \n",
    "\n",
    "\n",
    "**Exercise 3:** Follow the given schedule timings \n",
    "\n",
    "**INPUT: schedule:1 =** [(7, 10), (7, 11), (6, 8), (10, 11), (8, 10), (9, 11), (6, 8)]\n",
    "\n",
    "           OUTPUT: Best time to attend the party is at 7 o'clock : 4 celebrities will be attending!\n",
    "\n",
    "\n",
    "Here there is 12 celebrity chedule timings \n",
    "\n",
    "**INPUT: schedule:2  =** [(6, 8), (6, 12), (6, 7), (7, 8), (7, 10), (8, 9),\n",
    "          (8, 10), (9, 12), (9, 10), (10, 11), (10, 12), (11, 12)]\n",
    "          \n",
    "          OUTPUT:Best time to attend the party is at 9 o'clock : 5 celebrities will be attending!\n",
    "          \n",
    "**schedule:3 =** [(6, 7), (7,9), (10, 11), (10, 12), (8, 10), (9, 11), (6, 8),\n",
    "          (9, 10), (11, 12), (11, 12), (8, 11) ,(10, 12)]\n",
    "          \n",
    "           OUTPUT:Best time to attend the party is at 10 o'clock : 5 celebrities will be attending!\n",
    "\n",
    "   \n",
    "    "
   ]
  },
  {
   "cell_type": "code",
   "execution_count": null,
   "metadata": {},
   "outputs": [],
   "source": []
  },
  {
   "cell_type": "markdown",
   "metadata": {},
   "source": [
    "<span style=\"font-family: Arial; font-weight:bold;font-size:1.5em;color:#5d067d;\">2.Find the \"he\" in given below story and also count of 'he':\n",
    "    \n",
    "**Input:** There was an old owl that lived in an oak. Every day he saw incidents happening around him. Yesterday he saw a boy helping an old man to carry a heavy basket. Today he saw a girl shouting at her mother. The more he saw the less he spoke. As he spoke less, he heard more. He heard people talking and telling stories. He heard a woman saying that an elephant jumped over a fence. He also heard a man saying that he had never made a mistake. The old owl had seen and heard about what happened to people. Some became better and some became worse. But the old owl had become wiser each and every day.\n"
   ]
  },
  {
   "cell_type": "markdown",
   "metadata": {},
   "source": [
    "**Output:** where he appears is indicated below ... there were:22:Instance\n",
    "\n",
    "T[he]re was an old owl that lived in an oak. Every day [he] saw incidents happening around him. Yesterday [he] saw a boy [he]lping an old man to carry a [he]avy basket. Today [he] saw a girl shouting at [he]r mot[he]r. T[he] more [he] saw t[he] less [he] spoke. As [he] spoke less, [he] [he]ard more. He [he]ard people talking and telling stories. He [he]ard a woman saying that an elephant jumped over a fence. He also [he]ard a man saying that [he] had never made a mistake. T[he] old owl had seen and [he]ard about what happened to people. Some became better and some became worse. But t[he] old owl had become wiser each and every day."
   ]
  },
  {
   "cell_type": "code",
   "execution_count": 48,
   "metadata": {},
   "outputs": [
    {
     "name": "stdout",
     "output_type": "stream",
     "text": [
      "Begin your story: There was an old owl that lived in an oak. Every day he saw incidents happening around him. Yesterday he saw a boy helping an old man to carry a heavy basket. Today he saw a girl shouting at her mother. The more he saw the less he spoke. As he spoke less, he heard more. He heard people talking and telling stories. He heard a woman saying that an elephant jumped over a fence. He also heard a man saying that he had never made a mistake. The old owl had seen and heard about what happened to people. Some became better and some became worse. But the old owl had become wiser each and every day.\n",
      "\n",
      "The number of times 'he' appears is  22\n",
      "T[he]re was an old owl that lived in an oak. Every day [he] saw incidents happening around him. Yesterday [he] saw a boy [he]lping an old man to carry a [he]avy basket. Today [he] saw a girl shouting at [he]r mot[he]r. T[he] more [he] saw t[he] less [he] spoke. As [he] spoke less, [he] [he]ard more. He [he]ard people talking and telling stories. He [he]ard a woman saying that an elephant jumped over a fence. He also [he]ard a man saying that [he] had never made a mistake. T[he] old owl had seen and [he]ard about what happened to people. Some became better and some became worse. But t[he] old owl had become wiser each and every day.\n"
     ]
    }
   ],
   "source": [
    "story = input('Begin your story: ')\n",
    "count = 0\n",
    "wordlist = story.split()\n",
    "for i in wordlist:\n",
    "    if('he' in i):\n",
    "        count += 1\n",
    "print()\n",
    "print('The number of times \\'he\\' appears is ',count)\n",
    "print(story.replace('he','[he]'))"
   ]
  }
 ],
 "metadata": {
  "kernelspec": {
   "display_name": "Python 3",
   "language": "python",
   "name": "python3"
  },
  "language_info": {
   "codemirror_mode": {
    "name": "ipython",
    "version": 3
   },
   "file_extension": ".py",
   "mimetype": "text/x-python",
   "name": "python",
   "nbconvert_exporter": "python",
   "pygments_lexer": "ipython3",
   "version": "3.7.3"
  }
 },
 "nbformat": 4,
 "nbformat_minor": 2
}
